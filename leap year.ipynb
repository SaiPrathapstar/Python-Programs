{
 "cells": [
  {
   "cell_type": "code",
   "execution_count": 1,
   "id": "24f7cd12",
   "metadata": {},
   "outputs": [],
   "source": [
    "# year % 4 == 0 then may be leap year leap year OR Not a leap year\n",
    "#   |\n",
    "#   -> year % 100 != 0 then leap year OR check for 400\n",
    "#         |\n",
    "#          -> year%400 == 0 then leap year OR Not a leap year"
   ]
  },
  {
   "cell_type": "code",
   "execution_count": 2,
   "id": "fdb4eb4a",
   "metadata": {},
   "outputs": [],
   "source": [
    "def leap(year):\n",
    "    if year % 4 == 0:\n",
    "        if year % 100 == 0:\n",
    "            if year % 400 == 0:\n",
    "                print(\"Leap Year\")\n",
    "            else:\n",
    "                print(\"Not a leap Year\")\n",
    "        else:\n",
    "            print(\"Leap Year\")\n",
    "    else:\n",
    "        print(\"Not a leap Year\")"
   ]
  },
  {
   "cell_type": "code",
   "execution_count": 3,
   "id": "b65ed5d7",
   "metadata": {},
   "outputs": [
    {
     "name": "stdout",
     "output_type": "stream",
     "text": [
      "Leap Year\n"
     ]
    }
   ],
   "source": [
    "leap(2020)"
   ]
  }
 ],
 "metadata": {
  "kernelspec": {
   "display_name": "Python 3",
   "language": "python",
   "name": "python3"
  },
  "language_info": {
   "codemirror_mode": {
    "name": "ipython",
    "version": 3
   },
   "file_extension": ".py",
   "mimetype": "text/x-python",
   "name": "python",
   "nbconvert_exporter": "python",
   "pygments_lexer": "ipython3",
   "version": "3.8.8"
  }
 },
 "nbformat": 4,
 "nbformat_minor": 5
}
