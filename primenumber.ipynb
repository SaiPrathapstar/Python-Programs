{
 "cells": [
  {
   "cell_type": "code",
   "execution_count": 4,
   "id": "16cf98b6",
   "metadata": {},
   "outputs": [],
   "source": [
    "def prime(num):\n",
    "    count = 0\n",
    "    for i in range(2,num):\n",
    "        if num%i == 0:\n",
    "            count = count + 1\n",
    "    if count > 0:\n",
    "        print(\"It is not a prime number\")\n",
    "    else:\n",
    "        print(\"It is a prime number\")"
   ]
  },
  {
   "cell_type": "code",
   "execution_count": 6,
   "id": "806d271d",
   "metadata": {},
   "outputs": [
    {
     "name": "stdout",
     "output_type": "stream",
     "text": [
      "It is not a prime number\n"
     ]
    }
   ],
   "source": [
    "prime(9)"
   ]
  },
  {
   "cell_type": "code",
   "execution_count": 11,
   "id": "46751b55",
   "metadata": {},
   "outputs": [],
   "source": [
    "def primeno(n):\n",
    "    for j in range(2,n+1):\n",
    "        count = 0\n",
    "        for i in range(2 ,j ):\n",
    "            if j%i == 0:\n",
    "                count = count + 1\n",
    "        if count == 0:\n",
    "            print(j , end=' ')\n",
    "        count = 0"
   ]
  },
  {
   "cell_type": "code",
   "execution_count": 13,
   "id": "d52e295c",
   "metadata": {},
   "outputs": [
    {
     "name": "stdout",
     "output_type": "stream",
     "text": [
      "2 3 5 7 11 13 17 19 23 29 31 37 41 43 47 53 59 61 67 71 73 79 83 89 97 "
     ]
    }
   ],
   "source": [
    "primeno(100)"
   ]
  }
 ],
 "metadata": {
  "kernelspec": {
   "display_name": "Python 3",
   "language": "python",
   "name": "python3"
  },
  "language_info": {
   "codemirror_mode": {
    "name": "ipython",
    "version": 3
   },
   "file_extension": ".py",
   "mimetype": "text/x-python",
   "name": "python",
   "nbconvert_exporter": "python",
   "pygments_lexer": "ipython3",
   "version": "3.8.8"
  }
 },
 "nbformat": 4,
 "nbformat_minor": 5
}
