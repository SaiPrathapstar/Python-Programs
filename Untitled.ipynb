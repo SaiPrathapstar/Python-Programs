{
 "cells": [
  {
   "cell_type": "code",
   "execution_count": 3,
   "id": "9ac93951",
   "metadata": {},
   "outputs": [],
   "source": [
    "def intrest(amount , rate , duration , case):\n",
    "    if case == 1:\n",
    "        return amount + duration * rate * (amount / 100)\n",
    "    elif case == 2:\n",
    "        for i in range(duration):\n",
    "            amount = amount + rate * (amount/100)\n",
    "        return amount"
   ]
  },
  {
   "cell_type": "code",
   "execution_count": 5,
   "id": "4a7d2fe4",
   "metadata": {},
   "outputs": [
    {
     "data": {
      "text/plain": [
       "126824.17945625454"
      ]
     },
     "execution_count": 5,
     "metadata": {},
     "output_type": "execute_result"
    }
   ],
   "source": [
    "intrest(100000,2,12,2)"
   ]
  },
  {
   "cell_type": "code",
   "execution_count": 7,
   "id": "b994b301",
   "metadata": {},
   "outputs": [
    {
     "name": "stdout",
     "output_type": "stream",
     "text": [
      "Enter amount100000\n",
      "Enter intrest rate2\n",
      "Enter duration12\n",
      "Enter 1 to pay monthly \n",
      " Enter 2 to pay at the end2\n",
      "Amount to be paid for Rs 100000 is 126824.17945625454\n"
     ]
    }
   ],
   "source": [
    "amount = int(input(\"Enter amount : \"))\n",
    "rate = int(input(\"Enter intrest rate : \"))\n",
    "duration = int(input(\"Enter duration : \"))\n",
    "case = int(input(\"Enter 1 to pay monthly \\n Enter 2 to pay at the end : \"))\n",
    "a = intrest(amount , rate , duration ,case)\n",
    "print(f\"Amount to be paid for Rs {amount} is {a}\")"
   ]
  }
 ],
 "metadata": {
  "kernelspec": {
   "display_name": "Python 3",
   "language": "python",
   "name": "python3"
  },
  "language_info": {
   "codemirror_mode": {
    "name": "ipython",
    "version": 3
   },
   "file_extension": ".py",
   "mimetype": "text/x-python",
   "name": "python",
   "nbconvert_exporter": "python",
   "pygments_lexer": "ipython3",
   "version": "3.8.8"
  }
 },
 "nbformat": 4,
 "nbformat_minor": 5
}
