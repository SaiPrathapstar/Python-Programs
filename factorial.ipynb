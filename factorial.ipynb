{
 "cells": [
  {
   "cell_type": "code",
   "execution_count": 2,
   "id": "e5fec2b2",
   "metadata": {},
   "outputs": [],
   "source": [
    "def factorial(num):\n",
    "    fact = 1\n",
    "    print(\"Factorial of \" , num , \" is \" , end=' ')\n",
    "    while num > 0:\n",
    "        fact = fact * num\n",
    "        num = num - 1\n",
    "    print(fact)"
   ]
  },
  {
   "cell_type": "code",
   "execution_count": 4,
   "id": "7fba55b0",
   "metadata": {},
   "outputs": [
    {
     "name": "stdout",
     "output_type": "stream",
     "text": [
      "Factorial of  5  is  120\n"
     ]
    }
   ],
   "source": [
    "factorial(5)"
   ]
  },
  {
   "cell_type": "code",
   "execution_count": 5,
   "id": "dd19165a",
   "metadata": {},
   "outputs": [],
   "source": [
    "def rfact(num):\n",
    "    if num == 1:\n",
    "        return (1)\n",
    "    else:\n",
    "        return num * rfact(num-1)"
   ]
  },
  {
   "cell_type": "code",
   "execution_count": 6,
   "id": "c193f664",
   "metadata": {},
   "outputs": [
    {
     "data": {
      "text/plain": [
       "120"
      ]
     },
     "execution_count": 6,
     "metadata": {},
     "output_type": "execute_result"
    }
   ],
   "source": [
    "rfact(5)"
   ]
  }
 ],
 "metadata": {
  "kernelspec": {
   "display_name": "Python 3",
   "language": "python",
   "name": "python3"
  },
  "language_info": {
   "codemirror_mode": {
    "name": "ipython",
    "version": 3
   },
   "file_extension": ".py",
   "mimetype": "text/x-python",
   "name": "python",
   "nbconvert_exporter": "python",
   "pygments_lexer": "ipython3",
   "version": "3.8.8"
  }
 },
 "nbformat": 4,
 "nbformat_minor": 5
}
