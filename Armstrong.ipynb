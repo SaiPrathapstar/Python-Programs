{
 "cells": [
  {
   "cell_type": "code",
   "execution_count": 8,
   "id": "2c699d13",
   "metadata": {},
   "outputs": [],
   "source": [
    "def Armstrong(num):\n",
    "    s = 0\n",
    "    temp = num\n",
    "    rem = 0\n",
    "    while num > 0:\n",
    "        rem = num%10\n",
    "        s = s + rem*rem*rem\n",
    "        num = int(num/10)\n",
    "    if s == temp:\n",
    "        print(\"Armstrong\")\n",
    "    else:\n",
    "        print(\"not a Armstrong\")"
   ]
  },
  {
   "cell_type": "code",
   "execution_count": 10,
   "id": "adc3f297",
   "metadata": {},
   "outputs": [
    {
     "name": "stdout",
     "output_type": "stream",
     "text": [
      "Armstrong\n"
     ]
    }
   ],
   "source": [
    "Armstrong(153)"
   ]
  },
  {
   "cell_type": "code",
   "execution_count": null,
   "id": "36ba3043",
   "metadata": {},
   "outputs": [],
   "source": []
  }
 ],
 "metadata": {
  "kernelspec": {
   "display_name": "Python 3",
   "language": "python",
   "name": "python3"
  },
  "language_info": {
   "codemirror_mode": {
    "name": "ipython",
    "version": 3
   },
   "file_extension": ".py",
   "mimetype": "text/x-python",
   "name": "python",
   "nbconvert_exporter": "python",
   "pygments_lexer": "ipython3",
   "version": "3.8.8"
  }
 },
 "nbformat": 4,
 "nbformat_minor": 5
}
