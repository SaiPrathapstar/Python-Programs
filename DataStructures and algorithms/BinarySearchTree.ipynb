{
 "cells": [
  {
   "cell_type": "code",
   "execution_count": 17,
   "id": "72b2a82c",
   "metadata": {},
   "outputs": [],
   "source": [
    "class Tree:\n",
    "    def __init__(self,initval = None):\n",
    "        self.value = initval\n",
    "        if self.value:\n",
    "            self.left = Tree()\n",
    "            self.right = Tree()\n",
    "        else:\n",
    "            self.left = None\n",
    "            self.right = None\n",
    "        return\n",
    "    def isempty(self):\n",
    "        return(self.value == None)\n",
    "    def inorder(self):\n",
    "        if self.isempty():\n",
    "            return([])\n",
    "        else:\n",
    "            return(self.left.inorder() + [self.value] + self.right.inorder())\n",
    "    def __str__(self):\n",
    "        return(str(self.inorder()))\n",
    "    def find(self,v):\n",
    "        if self.isempty():\n",
    "            return False\n",
    "        if self.value == v:\n",
    "            return(True)\n",
    "        if v < self.value:\n",
    "            return(self.left.find(v))\n",
    "        else:\n",
    "            return(self.right.find(v))\n",
    "    def minval(self):\n",
    "        if self.left == None:\n",
    "            return(self.value)\n",
    "        else:\n",
    "            return(self.left.minval())\n",
    "    def maxval(self):\n",
    "        if self.right == None:\n",
    "            return(self.value)\n",
    "        else:\n",
    "            return(self.right.maxval())\n",
    "    def insert(self,v):\n",
    "        if self.isempty():\n",
    "            self.value = v\n",
    "            self.left = Tree()\n",
    "            self.right = Tree()\n",
    "        if self.value == v:\n",
    "            return\n",
    "        if v < self.value:\n",
    "            self.left.insert(v)\n",
    "            return\n",
    "        if v > self.value:\n",
    "            self.right.insert(v)\n",
    "            return\n",
    "    def makeempty(self):\n",
    "        self.value = None\n",
    "        self.left = None\n",
    "        self.right = None\n",
    "        return\n",
    "    def copyright(self):\n",
    "        self.value = self.right.value\n",
    "        self.left =  self.right.value\n",
    "        self.right = self.right.right\n",
    "        return\n",
    "    def isleaf(self):\n",
    "        return (self.left == None and self.right == None )\n",
    "    def delete(self,v):\n",
    "        if self.isempty():\n",
    "            return\n",
    "        if v < self.value:\n",
    "            self.left.delete(v)\n",
    "            return\n",
    "        if v > self.value:\n",
    "            self.right.delete(v)\n",
    "            return\n",
    "        if v == self.value:\n",
    "            if self.isleaf():\n",
    "                self.makeempty()\n",
    "            elif self.left.isempty():\n",
    "                self.copyright()\n",
    "            else:\n",
    "                self.value = self.left.maxval()\n",
    "                self.left.delete(self.left.maxval())\n",
    "            return"
   ]
  },
  {
   "cell_type": "code",
   "execution_count": 18,
   "id": "71bf0d47",
   "metadata": {},
   "outputs": [],
   "source": [
    "t = Tree()"
   ]
  },
  {
   "cell_type": "code",
   "execution_count": 19,
   "id": "ff075fee",
   "metadata": {},
   "outputs": [
    {
     "name": "stdout",
     "output_type": "stream",
     "text": [
      "[]\n"
     ]
    }
   ],
   "source": [
    "print(t)"
   ]
  },
  {
   "cell_type": "code",
   "execution_count": 20,
   "id": "142e1e22",
   "metadata": {},
   "outputs": [],
   "source": [
    "for i in [1,3,2,5,4,7,6,9,8]:\n",
    "    t.insert(i)"
   ]
  },
  {
   "cell_type": "code",
   "execution_count": 21,
   "id": "4e43eef4",
   "metadata": {},
   "outputs": [
    {
     "name": "stdout",
     "output_type": "stream",
     "text": [
      "[1, 2, 3, 4, 5, 6, 7, 8, 9]\n"
     ]
    }
   ],
   "source": [
    "print(t)"
   ]
  },
  {
   "cell_type": "code",
   "execution_count": 22,
   "id": "bcaa01d4",
   "metadata": {},
   "outputs": [],
   "source": [
    "t.delete(8)"
   ]
  },
  {
   "cell_type": "code",
   "execution_count": 23,
   "id": "5f96c228",
   "metadata": {},
   "outputs": [
    {
     "name": "stdout",
     "output_type": "stream",
     "text": [
      "[1, 2, 3, 4, 5, 6, 7, 9]\n"
     ]
    }
   ],
   "source": [
    "print(t)"
   ]
  },
  {
   "cell_type": "code",
   "execution_count": 24,
   "id": "dea423ac",
   "metadata": {},
   "outputs": [],
   "source": [
    "t.delete(9)"
   ]
  },
  {
   "cell_type": "code",
   "execution_count": 25,
   "id": "0c5b183c",
   "metadata": {},
   "outputs": [
    {
     "name": "stdout",
     "output_type": "stream",
     "text": [
      "[1, 2, 3, 4, 5, 6, 7]\n"
     ]
    }
   ],
   "source": [
    "print(t)"
   ]
  },
  {
   "cell_type": "code",
   "execution_count": 26,
   "id": "d317bd53",
   "metadata": {},
   "outputs": [],
   "source": [
    "t.delete(2)"
   ]
  },
  {
   "cell_type": "code",
   "execution_count": 27,
   "id": "6096f1dc",
   "metadata": {},
   "outputs": [
    {
     "name": "stdout",
     "output_type": "stream",
     "text": [
      "[1, 3, 4, 5, 6, 7]\n"
     ]
    }
   ],
   "source": [
    "print(t)"
   ]
  },
  {
   "cell_type": "code",
   "execution_count": null,
   "id": "6b3e2d70",
   "metadata": {},
   "outputs": [],
   "source": []
  },
  {
   "cell_type": "code",
   "execution_count": null,
   "id": "71bbb9e6",
   "metadata": {},
   "outputs": [],
   "source": []
  },
  {
   "cell_type": "code",
   "execution_count": null,
   "id": "498817e1",
   "metadata": {},
   "outputs": [],
   "source": []
  },
  {
   "cell_type": "code",
   "execution_count": null,
   "id": "ab1fbc7f",
   "metadata": {},
   "outputs": [],
   "source": []
  },
  {
   "cell_type": "code",
   "execution_count": null,
   "id": "0cd7a0c6",
   "metadata": {},
   "outputs": [],
   "source": []
  }
 ],
 "metadata": {
  "kernelspec": {
   "display_name": "Python 3",
   "language": "python",
   "name": "python3"
  },
  "language_info": {
   "codemirror_mode": {
    "name": "ipython",
    "version": 3
   },
   "file_extension": ".py",
   "mimetype": "text/x-python",
   "name": "python",
   "nbconvert_exporter": "python",
   "pygments_lexer": "ipython3",
   "version": "3.8.8"
  }
 },
 "nbformat": 4,
 "nbformat_minor": 5
}
