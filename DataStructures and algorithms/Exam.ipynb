{
 "cells": [
  {
   "cell_type": "code",
   "execution_count": 16,
   "id": "f09753f4",
   "metadata": {},
   "outputs": [],
   "source": [
    "def foo(l1,l2):\n",
    "    if l1 == []:\n",
    "        return l2\n",
    "    else:\n",
    "        return (foo(l2[:-1] , l1) + [l2[-1]])"
   ]
  },
  {
   "cell_type": "code",
   "execution_count": 12,
   "id": "6c5e10c8",
   "metadata": {},
   "outputs": [],
   "source": [
    "l1 = [1,2,3]\n",
    "l2 = [4,5,6]"
   ]
  },
  {
   "cell_type": "code",
   "execution_count": 17,
   "id": "938f7880",
   "metadata": {},
   "outputs": [
    {
     "data": {
      "text/plain": [
       "[1, 4, 2, 5, 3, 6]"
      ]
     },
     "execution_count": 17,
     "metadata": {},
     "output_type": "execute_result"
    }
   ],
   "source": [
    "foo(l1,l2)"
   ]
  },
  {
   "cell_type": "code",
   "execution_count": 27,
   "id": "ba4a71e7",
   "metadata": {},
   "outputs": [],
   "source": [
    "def count(n,b):\n",
    "    x = 0\n",
    "    while n >= 1:\n",
    "        (x,n) = (x+1 , n/b)\n",
    "    return(x)"
   ]
  },
  {
   "cell_type": "code",
   "execution_count": 28,
   "id": "c1e6f675",
   "metadata": {},
   "outputs": [
    {
     "data": {
      "text/plain": [
       "4"
      ]
     },
     "execution_count": 28,
     "metadata": {},
     "output_type": "execute_result"
    }
   ],
   "source": [
    "count(1234,10)"
   ]
  },
  {
   "cell_type": "code",
   "execution_count": 29,
   "id": "51faefdb",
   "metadata": {},
   "outputs": [],
   "source": [
    "l = list(range(15,1,-1))"
   ]
  },
  {
   "cell_type": "code",
   "execution_count": 31,
   "id": "3c7ee3e3",
   "metadata": {},
   "outputs": [],
   "source": [
    "l[2:4] = [3,2,1]"
   ]
  },
  {
   "cell_type": "code",
   "execution_count": 33,
   "id": "2db1a235",
   "metadata": {},
   "outputs": [
    {
     "data": {
      "text/plain": [
       "[15, 14, 3, 2, 1, 11, 10, 9, 8, 7, 6, 5, 4, 3, 2]"
      ]
     },
     "execution_count": 33,
     "metadata": {},
     "output_type": "execute_result"
    }
   ],
   "source": [
    "l"
   ]
  },
  {
   "cell_type": "code",
   "execution_count": null,
   "id": "aba15a20",
   "metadata": {},
   "outputs": [],
   "source": []
  },
  {
   "cell_type": "code",
   "execution_count": null,
   "id": "22e1954e",
   "metadata": {},
   "outputs": [],
   "source": []
  },
  {
   "cell_type": "code",
   "execution_count": null,
   "id": "78f7bf1e",
   "metadata": {},
   "outputs": [],
   "source": []
  },
  {
   "cell_type": "code",
   "execution_count": null,
   "id": "2ea38827",
   "metadata": {},
   "outputs": [],
   "source": []
  }
 ],
 "metadata": {
  "kernelspec": {
   "display_name": "Python 3",
   "language": "python",
   "name": "python3"
  },
  "language_info": {
   "codemirror_mode": {
    "name": "ipython",
    "version": 3
   },
   "file_extension": ".py",
   "mimetype": "text/x-python",
   "name": "python",
   "nbconvert_exporter": "python",
   "pygments_lexer": "ipython3",
   "version": "3.8.8"
  }
 },
 "nbformat": 4,
 "nbformat_minor": 5
}
