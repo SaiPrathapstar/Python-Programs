{
 "cells": [
  {
   "cell_type": "code",
   "execution_count": 1,
   "id": "13151600",
   "metadata": {},
   "outputs": [
    {
     "data": {
      "text/plain": [
       "161700"
      ]
     },
     "execution_count": 1,
     "metadata": {},
     "output_type": "execute_result"
    }
   ],
   "source": [
    "#to get sum sqqres of even numbers upto n\n",
    "sum(map(lambda x: x*x , filter(lambda x:x%2 == 0 , range(100))))"
   ]
  },
  {
   "cell_type": "code",
   "execution_count": 2,
   "id": "caa9d02b",
   "metadata": {},
   "outputs": [
    {
     "data": {
      "text/plain": [
       "161700"
      ]
     },
     "execution_count": 2,
     "metadata": {},
     "output_type": "execute_result"
    }
   ],
   "source": [
    "#the same using list comprehension\n",
    "sum([x*x for x in range(100) if x%2 == 0])"
   ]
  },
  {
   "cell_type": "code",
   "execution_count": 3,
   "id": "76a2ff7e",
   "metadata": {},
   "outputs": [],
   "source": [
    "#list comprehension is useful for matrix initialization\n",
    "l = [0 for x in range(3) for y in range(4)]"
   ]
  },
  {
   "cell_type": "code",
   "execution_count": 4,
   "id": "88b42445",
   "metadata": {},
   "outputs": [
    {
     "data": {
      "text/plain": [
       "[0, 0, 0, 0, 0, 0, 0, 0, 0, 0, 0, 0]"
      ]
     },
     "execution_count": 4,
     "metadata": {},
     "output_type": "execute_result"
    }
   ],
   "source": [
    "l"
   ]
  },
  {
   "cell_type": "code",
   "execution_count": 8,
   "id": "6cc868ee",
   "metadata": {},
   "outputs": [
    {
     "data": {
      "text/plain": [
       "12"
      ]
     },
     "execution_count": 8,
     "metadata": {},
     "output_type": "execute_result"
    }
   ],
   "source": [
    "l.count(0)"
   ]
  },
  {
   "cell_type": "code",
   "execution_count": 13,
   "id": "ca42d110",
   "metadata": {},
   "outputs": [
    {
     "data": {
      "text/plain": [
       "[(3, 4),\n",
       " (5, 12),\n",
       " (6, 8),\n",
       " (7, 24),\n",
       " (8, 15),\n",
       " (9, 12),\n",
       " (9, 40),\n",
       " (10, 24),\n",
       " (11, 60),\n",
       " (12, 16),\n",
       " (12, 35),\n",
       " (13, 84),\n",
       " (14, 48),\n",
       " (15, 20),\n",
       " (15, 36),\n",
       " (16, 30),\n",
       " (16, 63),\n",
       " (18, 24),\n",
       " (18, 80),\n",
       " (20, 21),\n",
       " (20, 48),\n",
       " (21, 28),\n",
       " (21, 72),\n",
       " (24, 32),\n",
       " (24, 45),\n",
       " (24, 70),\n",
       " (25, 60),\n",
       " (27, 36),\n",
       " (28, 45),\n",
       " (30, 40),\n",
       " (30, 72),\n",
       " (32, 60),\n",
       " (33, 44),\n",
       " (33, 56),\n",
       " (35, 84),\n",
       " (36, 48),\n",
       " (36, 77),\n",
       " (39, 52),\n",
       " (39, 80),\n",
       " (40, 42),\n",
       " (40, 75),\n",
       " (42, 56),\n",
       " (45, 60),\n",
       " (48, 55),\n",
       " (48, 64),\n",
       " (51, 68),\n",
       " (54, 72),\n",
       " (57, 76),\n",
       " (60, 63),\n",
       " (65, 72)]"
      ]
     },
     "execution_count": 13,
     "metadata": {},
     "output_type": "execute_result"
    }
   ],
   "source": [
    "#to print pythagorean triplets\n",
    "[(x,y) for x in range(1,100) for y in range(x,100) for z in range(y,100) if x*x + y*y == z*z]"
   ]
  },
  {
   "cell_type": "code",
   "execution_count": null,
   "id": "0db5db89",
   "metadata": {},
   "outputs": [],
   "source": []
  },
  {
   "cell_type": "code",
   "execution_count": null,
   "id": "a2545e42",
   "metadata": {},
   "outputs": [],
   "source": []
  },
  {
   "cell_type": "code",
   "execution_count": null,
   "id": "ffdc1406",
   "metadata": {},
   "outputs": [],
   "source": []
  },
  {
   "cell_type": "code",
   "execution_count": null,
   "id": "5a7c29ad",
   "metadata": {},
   "outputs": [],
   "source": []
  },
  {
   "cell_type": "code",
   "execution_count": null,
   "id": "afcc6ee5",
   "metadata": {},
   "outputs": [],
   "source": []
  },
  {
   "cell_type": "code",
   "execution_count": null,
   "id": "0fa84639",
   "metadata": {},
   "outputs": [],
   "source": []
  },
  {
   "cell_type": "code",
   "execution_count": null,
   "id": "b61c6007",
   "metadata": {},
   "outputs": [],
   "source": []
  }
 ],
 "metadata": {
  "kernelspec": {
   "display_name": "Python 3",
   "language": "python",
   "name": "python3"
  },
  "language_info": {
   "codemirror_mode": {
    "name": "ipython",
    "version": 3
   },
   "file_extension": ".py",
   "mimetype": "text/x-python",
   "name": "python",
   "nbconvert_exporter": "python",
   "pygments_lexer": "ipython3",
   "version": "3.8.8"
  }
 },
 "nbformat": 4,
 "nbformat_minor": 5
}
