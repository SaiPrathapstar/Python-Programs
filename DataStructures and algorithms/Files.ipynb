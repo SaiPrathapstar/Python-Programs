{
 "cells": [
  {
   "cell_type": "code",
   "execution_count": 18,
   "id": "2a7161b2",
   "metadata": {},
   "outputs": [],
   "source": [
    "f = open(\"input.txt\",\"r\")"
   ]
  },
  {
   "cell_type": "code",
   "execution_count": 19,
   "id": "d38163de",
   "metadata": {},
   "outputs": [],
   "source": [
    "c = f.readlines()"
   ]
  },
  {
   "cell_type": "code",
   "execution_count": 20,
   "id": "076fb177",
   "metadata": {},
   "outputs": [
    {
     "data": {
      "text/plain": [
       "['A quick brown\\n', 'fox\\n', 'jumped on a lazy\\n', 'dog']"
      ]
     },
     "execution_count": 20,
     "metadata": {},
     "output_type": "execute_result"
    }
   ],
   "source": [
    "c"
   ]
  },
  {
   "cell_type": "code",
   "execution_count": 21,
   "id": "3206fd0a",
   "metadata": {},
   "outputs": [
    {
     "name": "stdout",
     "output_type": "stream",
     "text": [
      "['A quick brown\\n', 'fox\\n', 'jumped on a lazy\\n', 'dog']\n"
     ]
    }
   ],
   "source": [
    "print(c)"
   ]
  },
  {
   "cell_type": "code",
   "execution_count": 22,
   "id": "e43c60cf",
   "metadata": {},
   "outputs": [
    {
     "name": "stdout",
     "output_type": "stream",
     "text": [
      "A quick brown\n",
      "\n",
      "fox\n",
      "\n",
      "jumped on a lazy\n",
      "\n",
      "dog\n"
     ]
    }
   ],
   "source": [
    "for line in c:\n",
    "    print(line)"
   ]
  },
  {
   "cell_type": "code",
   "execution_count": 23,
   "id": "af999d01",
   "metadata": {},
   "outputs": [
    {
     "name": "stdout",
     "output_type": "stream",
     "text": [
      "[]\n"
     ]
    }
   ],
   "source": [
    "print(f.readlines())"
   ]
  },
  {
   "cell_type": "code",
   "execution_count": 24,
   "id": "3d9214d0",
   "metadata": {},
   "outputs": [
    {
     "data": {
      "text/plain": [
       "''"
      ]
     },
     "execution_count": 24,
     "metadata": {},
     "output_type": "execute_result"
    }
   ],
   "source": [
    "f.readline()"
   ]
  },
  {
   "cell_type": "code",
   "execution_count": null,
   "id": "25dd79d1",
   "metadata": {},
   "outputs": [],
   "source": []
  },
  {
   "cell_type": "code",
   "execution_count": 35,
   "id": "9a7062c0",
   "metadata": {},
   "outputs": [],
   "source": [
    "f.close()"
   ]
  },
  {
   "cell_type": "code",
   "execution_count": 36,
   "id": "a7f5a992",
   "metadata": {},
   "outputs": [],
   "source": [
    "f = open(\"input.txt\" , 'r')"
   ]
  },
  {
   "cell_type": "code",
   "execution_count": null,
   "id": "36bbdff5",
   "metadata": {},
   "outputs": [],
   "source": []
  },
  {
   "cell_type": "code",
   "execution_count": 37,
   "id": "a055a0c0",
   "metadata": {},
   "outputs": [],
   "source": [
    "for line in f.readlines():\n",
    "    print(line)"
   ]
  },
  {
   "cell_type": "code",
   "execution_count": 38,
   "id": "cd9c6711",
   "metadata": {},
   "outputs": [],
   "source": [
    "f.close()"
   ]
  },
  {
   "cell_type": "code",
   "execution_count": 39,
   "id": "00a1794b",
   "metadata": {},
   "outputs": [],
   "source": [
    "file = open(\"input.txt\" , 'w')"
   ]
  },
  {
   "cell_type": "code",
   "execution_count": 40,
   "id": "fb276a95",
   "metadata": {},
   "outputs": [
    {
     "data": {
      "text/plain": [
       "40"
      ]
     },
     "execution_count": 40,
     "metadata": {},
     "output_type": "execute_result"
    }
   ],
   "source": [
    "file.write(\"A quick brown\\nfox\\njumped over a lazy\\ndog\")"
   ]
  },
  {
   "cell_type": "code",
   "execution_count": 45,
   "id": "5d05068f",
   "metadata": {},
   "outputs": [],
   "source": [
    "file.flush() #can omit this step"
   ]
  },
  {
   "cell_type": "code",
   "execution_count": 47,
   "id": "615c5276",
   "metadata": {},
   "outputs": [],
   "source": [
    "file.close()"
   ]
  },
  {
   "cell_type": "code",
   "execution_count": 48,
   "id": "07d3ce6f",
   "metadata": {},
   "outputs": [],
   "source": [
    "x = open(\"input.txt\" , \"r\")\n"
   ]
  },
  {
   "cell_type": "code",
   "execution_count": 49,
   "id": "20a09e18",
   "metadata": {},
   "outputs": [
    {
     "name": "stdout",
     "output_type": "stream",
     "text": [
      "A quick brown\n",
      "fox\n",
      "jumped over a lazy\n",
      "dog"
     ]
    }
   ],
   "source": [
    "for line in x.readlines():\n",
    "    print(line,end=\"\")"
   ]
  },
  {
   "cell_type": "code",
   "execution_count": 50,
   "id": "756c3eaa",
   "metadata": {},
   "outputs": [],
   "source": [
    "x.close()"
   ]
  },
  {
   "cell_type": "code",
   "execution_count": 56,
   "id": "67e0ef12",
   "metadata": {},
   "outputs": [],
   "source": [
    "#copy a file\n",
    "infile = open(\"input.txt\" , \"r\")\n",
    "outfile = open(\"output.txt\" , \"w\")\n",
    "for line in infile.readlines():\n",
    "    outfile.write(line)\n",
    "infile.close()\n",
    "outfile.close()"
   ]
  },
  {
   "cell_type": "code",
   "execution_count": 57,
   "id": "2c8e3537",
   "metadata": {},
   "outputs": [
    {
     "name": "stdout",
     "output_type": "stream",
     "text": [
      "['A quick brown\\n', 'fox\\n', 'jumped over a lazy\\n', 'dog']\n"
     ]
    }
   ],
   "source": [
    "f = open(\"output.txt\",\"r\")\n",
    "p = f.readlines()\n",
    "print(p)\n",
    "f.close()"
   ]
  },
  {
   "cell_type": "code",
   "execution_count": 62,
   "id": "71eebd72",
   "metadata": {},
   "outputs": [],
   "source": [
    "f = open(\"output.txt\" , 'a')\n",
    "f.write(\"\\nSuccessfull\")\n",
    "f.close()"
   ]
  },
  {
   "cell_type": "code",
   "execution_count": 63,
   "id": "85a61acb",
   "metadata": {},
   "outputs": [
    {
     "name": "stdout",
     "output_type": "stream",
     "text": [
      "A quick brown\n",
      "fox\n",
      "jumped over a lazy\n",
      "dog\n",
      "Successfull\n"
     ]
    }
   ],
   "source": [
    "f = open(\"output.txt\" , 'r')\n",
    "print(f.read())"
   ]
  },
  {
   "cell_type": "code",
   "execution_count": 4,
   "id": "4ef4be4e",
   "metadata": {},
   "outputs": [],
   "source": [
    "f = open(\"input.txt\")"
   ]
  },
  {
   "cell_type": "code",
   "execution_count": 6,
   "id": "1a0152fd",
   "metadata": {},
   "outputs": [],
   "source": [
    "r = f.read()"
   ]
  },
  {
   "cell_type": "code",
   "execution_count": 7,
   "id": "49084e20",
   "metadata": {},
   "outputs": [
    {
     "data": {
      "text/plain": [
       "'A quick brown\\nfox\\njumped over a lazy\\ndog'"
      ]
     },
     "execution_count": 7,
     "metadata": {},
     "output_type": "execute_result"
    }
   ],
   "source": [
    "r"
   ]
  },
  {
   "cell_type": "code",
   "execution_count": 10,
   "id": "a145f883",
   "metadata": {},
   "outputs": [],
   "source": [
    "f.close()"
   ]
  },
  {
   "cell_type": "code",
   "execution_count": 13,
   "id": "1fc460b1",
   "metadata": {},
   "outputs": [],
   "source": [
    "f1 = open(\"input.txt\",\"r\")"
   ]
  },
  {
   "cell_type": "code",
   "execution_count": 14,
   "id": "72ecb319",
   "metadata": {},
   "outputs": [],
   "source": [
    "f2 = open(\"output.txt\",\"w\")"
   ]
  },
  {
   "cell_type": "code",
   "execution_count": 15,
   "id": "11c5526f",
   "metadata": {},
   "outputs": [],
   "source": [
    "for line in f1.readlines():\n",
    "    f2.write(line)"
   ]
  },
  {
   "cell_type": "code",
   "execution_count": 16,
   "id": "bc9cc9dc",
   "metadata": {},
   "outputs": [],
   "source": [
    "f1.close()"
   ]
  },
  {
   "cell_type": "code",
   "execution_count": 17,
   "id": "6d344ee0",
   "metadata": {},
   "outputs": [],
   "source": [
    "f2.close()"
   ]
  },
  {
   "cell_type": "code",
   "execution_count": 18,
   "id": "3096d175",
   "metadata": {},
   "outputs": [],
   "source": [
    "f = open(\"output.txt\",\"r\")"
   ]
  },
  {
   "cell_type": "code",
   "execution_count": 24,
   "id": "be03cc22",
   "metadata": {},
   "outputs": [
    {
     "data": {
      "text/plain": [
       "''"
      ]
     },
     "execution_count": 24,
     "metadata": {},
     "output_type": "execute_result"
    }
   ],
   "source": [
    "r = f.readline()\n",
    "r"
   ]
  },
  {
   "cell_type": "code",
   "execution_count": 25,
   "id": "fc56f0ee",
   "metadata": {},
   "outputs": [
    {
     "data": {
      "text/plain": [
       "True"
      ]
     },
     "execution_count": 25,
     "metadata": {},
     "output_type": "execute_result"
    }
   ],
   "source": [
    "f1 = open(\"input.txt\")\n",
    "f2 = open(\"output.txt\")\n",
    "r1 = f1.read()\n",
    "r2 = f2.read()\n",
    "r1 == r2"
   ]
  },
  {
   "cell_type": "code",
   "execution_count": 28,
   "id": "2f176635",
   "metadata": {},
   "outputs": [],
   "source": [
    "f1.close()\n",
    "f2.close()"
   ]
  },
  {
   "cell_type": "code",
   "execution_count": 26,
   "id": "b03bc534",
   "metadata": {},
   "outputs": [],
   "source": [
    "f3 = open(\"input.txt\",\"w\")"
   ]
  },
  {
   "cell_type": "code",
   "execution_count": 27,
   "id": "1725015b",
   "metadata": {},
   "outputs": [],
   "source": [
    "f3.close()"
   ]
  },
  {
   "cell_type": "code",
   "execution_count": 29,
   "id": "7811fcb8",
   "metadata": {},
   "outputs": [],
   "source": [
    "f1 = open(\"input.txt\",\"r\")\n",
    "f2 = open(\"out2.txt\",\"w\")\n",
    "r1 = f1.read()\n",
    "f2.write(r1)\n",
    "f1.close()\n",
    "f2.close()"
   ]
  },
  {
   "cell_type": "code",
   "execution_count": 31,
   "id": "2ea43ebb",
   "metadata": {},
   "outputs": [
    {
     "data": {
      "text/plain": [
       "''"
      ]
     },
     "execution_count": 31,
     "metadata": {},
     "output_type": "execute_result"
    }
   ],
   "source": [
    "open(\"out2.txt\",\"r\").read()"
   ]
  },
  {
   "cell_type": "code",
   "execution_count": 32,
   "id": "d2f9b8fd",
   "metadata": {},
   "outputs": [],
   "source": [
    "f1 = open(\"output.txt\",\"r\")\n",
    "f2 = open(\"input.txt\",\"w\")\n",
    "f3 = open(\"out2.txt\",\"w\")\n",
    "f2.write(f1.read())\n",
    "f3.write(f1.read())\n",
    "f1.close()\n",
    "f2.close()\n",
    "f3.close()"
   ]
  },
  {
   "cell_type": "code",
   "execution_count": 34,
   "id": "c62144f3",
   "metadata": {},
   "outputs": [],
   "source": [
    "f=open(\"out2.txt\",\"w\")\n",
    "f2 = open(\"input.txt\",\"r\")\n",
    "r = f2.read()\n",
    "f.write(r)\n",
    "f.close()"
   ]
  },
  {
   "cell_type": "code",
   "execution_count": 35,
   "id": "f69e7bc7",
   "metadata": {},
   "outputs": [
    {
     "data": {
      "text/plain": [
       "['A quick brown\\n', 'fox\\n', 'jumped over a lazy\\n', 'dog']"
      ]
     },
     "execution_count": 35,
     "metadata": {},
     "output_type": "execute_result"
    }
   ],
   "source": [
    "f = open(\"input.txt\",'r')\n",
    "r = f.readlines()\n",
    "r"
   ]
  },
  {
   "cell_type": "code",
   "execution_count": 36,
   "id": "7e91dc26",
   "metadata": {},
   "outputs": [
    {
     "name": "stdout",
     "output_type": "stream",
     "text": [
      "A quick brown\n",
      "fox\n",
      "jumped over a lazy\n",
      "dog"
     ]
    }
   ],
   "source": [
    "for line in r:\n",
    "    print(line,end=\"\")"
   ]
  },
  {
   "cell_type": "code",
   "execution_count": 37,
   "id": "d2a70b82",
   "metadata": {},
   "outputs": [],
   "source": [
    "f.close()"
   ]
  },
  {
   "cell_type": "code",
   "execution_count": 41,
   "id": "5547ae05",
   "metadata": {},
   "outputs": [],
   "source": [
    "f = open(\"input.txt\",\"r\")\n",
    "f2 = open(\"out2.txt\",\"w\")\n",
    "for line in f.readlines():\n",
    "    f2.write(line[:-1])\n",
    "f.close()\n",
    "f2.close()"
   ]
  },
  {
   "cell_type": "code",
   "execution_count": 49,
   "id": "476a0eec",
   "metadata": {},
   "outputs": [],
   "source": [
    "f = open(\"out2.txt\",\"r\")\n",
    "r = f.read()"
   ]
  },
  {
   "cell_type": "code",
   "execution_count": 50,
   "id": "f7777f6f",
   "metadata": {},
   "outputs": [
    {
     "data": {
      "text/plain": [
       "'A quick brownfoxjumped over a lazydo'"
      ]
     },
     "execution_count": 50,
     "metadata": {},
     "output_type": "execute_result"
    }
   ],
   "source": [
    "r"
   ]
  },
  {
   "cell_type": "code",
   "execution_count": 51,
   "id": "d01e8f33",
   "metadata": {},
   "outputs": [],
   "source": [
    "f.close()"
   ]
  },
  {
   "cell_type": "code",
   "execution_count": 52,
   "id": "9de3dfbc",
   "metadata": {},
   "outputs": [
    {
     "data": {
      "text/plain": [
       "'A quick brownfoxjumped over a lazydo'"
      ]
     },
     "execution_count": 52,
     "metadata": {},
     "output_type": "execute_result"
    }
   ],
   "source": [
    "r"
   ]
  },
  {
   "cell_type": "code",
   "execution_count": 53,
   "id": "ee818509",
   "metadata": {},
   "outputs": [],
   "source": [
    "f = open(\"output.txt\",\"r\")\n",
    "r = f.read()"
   ]
  },
  {
   "cell_type": "code",
   "execution_count": 56,
   "id": "f59abe8b",
   "metadata": {},
   "outputs": [],
   "source": [
    "f.close()"
   ]
  },
  {
   "cell_type": "code",
   "execution_count": 54,
   "id": "6e706619",
   "metadata": {},
   "outputs": [
    {
     "data": {
      "text/plain": [
       "'A quick brown\\nfox\\njumped over a lazy\\ndog'"
      ]
     },
     "execution_count": 54,
     "metadata": {},
     "output_type": "execute_result"
    }
   ],
   "source": [
    "r"
   ]
  },
  {
   "cell_type": "code",
   "execution_count": 58,
   "id": "355ffaab",
   "metadata": {},
   "outputs": [
    {
     "data": {
      "text/plain": [
       "'A quick brown fox jumped over a lazy dog'"
      ]
     },
     "execution_count": 58,
     "metadata": {},
     "output_type": "execute_result"
    }
   ],
   "source": [
    "r.replace(\"\\n\",\" \")"
   ]
  },
  {
   "cell_type": "code",
   "execution_count": 62,
   "id": "e82c39ed",
   "metadata": {},
   "outputs": [],
   "source": [
    "f = open(\"out2.txt\",\"w\")\n",
    "f2 = open(\"input.txt\",\"r\")\n",
    "r = f2.read()\n",
    "r = r.replace(\"\\n\",\" \")\n",
    "f.write(r)\n",
    "f.close()\n",
    "f2.close()"
   ]
  },
  {
   "cell_type": "code",
   "execution_count": 63,
   "id": "136d817e",
   "metadata": {},
   "outputs": [
    {
     "name": "stdout",
     "output_type": "stream",
     "text": [
      "A quick brown fox jumped over a lazy dog\n"
     ]
    }
   ],
   "source": [
    "f = open(\"out2.txt\",\"r\")\n",
    "r = f.read()\n",
    "print(r)\n",
    "f.close()"
   ]
  },
  {
   "cell_type": "code",
   "execution_count": null,
   "id": "2d5b90ed",
   "metadata": {},
   "outputs": [],
   "source": []
  },
  {
   "cell_type": "code",
   "execution_count": null,
   "id": "191e04ba",
   "metadata": {},
   "outputs": [],
   "source": []
  }
 ],
 "metadata": {
  "kernelspec": {
   "display_name": "Python 3",
   "language": "python",
   "name": "python3"
  },
  "language_info": {
   "codemirror_mode": {
    "name": "ipython",
    "version": 3
   },
   "file_extension": ".py",
   "mimetype": "text/x-python",
   "name": "python",
   "nbconvert_exporter": "python",
   "pygments_lexer": "ipython3",
   "version": "3.8.8"
  }
 },
 "nbformat": 4,
 "nbformat_minor": 5
}
