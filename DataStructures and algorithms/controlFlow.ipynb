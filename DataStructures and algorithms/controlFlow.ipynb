{
 "cells": [
  {
   "cell_type": "code",
   "execution_count": 4,
   "id": "8b6e2597",
   "metadata": {},
   "outputs": [],
   "source": [
    "def factors(n):\n",
    "    flist = []\n",
    "    for i in range(1,n+1):\n",
    "        if not n%i:\n",
    "            flist = flist + [i]\n",
    "    return flist"
   ]
  },
  {
   "cell_type": "code",
   "execution_count": 6,
   "id": "0b6e9eab",
   "metadata": {},
   "outputs": [
    {
     "data": {
      "text/plain": [
       "[1, 2, 4, 5, 10, 20, 25, 50, 100]"
      ]
     },
     "execution_count": 6,
     "metadata": {},
     "output_type": "execute_result"
    }
   ],
   "source": [
    "factors(100)"
   ]
  }
 ],
 "metadata": {
  "kernelspec": {
   "display_name": "Python 3",
   "language": "python",
   "name": "python3"
  },
  "language_info": {
   "codemirror_mode": {
    "name": "ipython",
    "version": 3
   },
   "file_extension": ".py",
   "mimetype": "text/x-python",
   "name": "python",
   "nbconvert_exporter": "python",
   "pygments_lexer": "ipython3",
   "version": "3.8.8"
  }
 },
 "nbformat": 4,
 "nbformat_minor": 5
}
