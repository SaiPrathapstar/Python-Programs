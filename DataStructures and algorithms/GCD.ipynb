{
 "cells": [
  {
   "cell_type": "code",
   "execution_count": 1,
   "id": "21f196dc",
   "metadata": {},
   "outputs": [],
   "source": [
    "def gcd(m , n):\n",
    "    if m < n:\n",
    "        (m,n) = (n,m)\n",
    "    while m%n != 0:\n",
    "        (m,n) = (n,m%n)\n",
    "    return n"
   ]
  },
  {
   "cell_type": "code",
   "execution_count": 10,
   "id": "4918afc1",
   "metadata": {},
   "outputs": [
    {
     "data": {
      "text/plain": [
       "1"
      ]
     },
     "execution_count": 10,
     "metadata": {},
     "output_type": "execute_result"
    }
   ],
   "source": [
    "gcd(10000000,99999999)"
   ]
  },
  {
   "cell_type": "code",
   "execution_count": 6,
   "id": "c0332a0d",
   "metadata": {},
   "outputs": [],
   "source": [
    "def gcd2(m,n):\n",
    "    f =0\n",
    "    for i in range(1 ,min(m,n)+1):\n",
    "        if m%i ==0 and n%i == 0:\n",
    "            f = i\n",
    "    return(f)"
   ]
  },
  {
   "cell_type": "code",
   "execution_count": 2,
   "id": "648f90f5",
   "metadata": {},
   "outputs": [
    {
     "data": {
      "text/plain": [
       "72"
      ]
     },
     "execution_count": 2,
     "metadata": {},
     "output_type": "execute_result"
    }
   ],
   "source": [
    "gcd(288,360)"
   ]
  },
  {
   "cell_type": "code",
   "execution_count": 5,
   "id": "bdca4323",
   "metadata": {},
   "outputs": [
    {
     "data": {
      "text/plain": [
       "27"
      ]
     },
     "execution_count": 5,
     "metadata": {},
     "output_type": "execute_result"
    }
   ],
   "source": [
    "237%35"
   ]
  },
  {
   "cell_type": "code",
   "execution_count": 11,
   "id": "a098c651",
   "metadata": {},
   "outputs": [
    {
     "data": {
      "text/plain": [
       "1"
      ]
     },
     "execution_count": 11,
     "metadata": {},
     "output_type": "execute_result"
    }
   ],
   "source": [
    "gcd2(10000000,99999999)"
   ]
  },
  {
   "cell_type": "code",
   "execution_count": 12,
   "id": "5ec9be58",
   "metadata": {},
   "outputs": [],
   "source": [
    "def gcd3(m,n):\n",
    "    f =0\n",
    "    for i in range(min(m,n)+1 , 1):\n",
    "        if m%i ==0 and n%i == 0:\n",
    "            f = i\n",
    "    return(f)"
   ]
  },
  {
   "cell_type": "code",
   "execution_count": 13,
   "id": "d6862ad7",
   "metadata": {},
   "outputs": [
    {
     "data": {
      "text/plain": [
       "1"
      ]
     },
     "execution_count": 13,
     "metadata": {},
     "output_type": "execute_result"
    }
   ],
   "source": [
    "gcd(10000000,99999999)"
   ]
  }
 ],
 "metadata": {
  "kernelspec": {
   "display_name": "Python 3",
   "language": "python",
   "name": "python3"
  },
  "language_info": {
   "codemirror_mode": {
    "name": "ipython",
    "version": 3
   },
   "file_extension": ".py",
   "mimetype": "text/x-python",
   "name": "python",
   "nbconvert_exporter": "python",
   "pygments_lexer": "ipython3",
   "version": "3.8.8"
  }
 },
 "nbformat": 4,
 "nbformat_minor": 5
}
