{
 "cells": [
  {
   "cell_type": "code",
   "execution_count": 8,
   "id": "58cbac69",
   "metadata": {},
   "outputs": [],
   "source": [
    "def fib(n):\n",
    "    fibtable = {}\n",
    "    (fibtable[0],fibtable[1] )=(0,1)\n",
    "    for i in range(2,n+1):\n",
    "        fibtable[i] = fibtable[i-1]+fibtable[i-2]\n",
    "    return(fibtable[n])"
   ]
  },
  {
   "cell_type": "code",
   "execution_count": 9,
   "id": "32d64521",
   "metadata": {},
   "outputs": [
    {
     "data": {
      "text/plain": [
       "5"
      ]
     },
     "execution_count": 9,
     "metadata": {},
     "output_type": "execute_result"
    }
   ],
   "source": [
    "fib(5)"
   ]
  },
  {
   "cell_type": "code",
   "execution_count": 10,
   "id": "b4452fbe",
   "metadata": {},
   "outputs": [
    {
     "data": {
      "text/plain": [
       "21"
      ]
     },
     "execution_count": 10,
     "metadata": {},
     "output_type": "execute_result"
    }
   ],
   "source": [
    "fib(8)"
   ]
  }
 ],
 "metadata": {
  "kernelspec": {
   "display_name": "Python 3",
   "language": "python",
   "name": "python3"
  },
  "language_info": {
   "codemirror_mode": {
    "name": "ipython",
    "version": 3
   },
   "file_extension": ".py",
   "mimetype": "text/x-python",
   "name": "python",
   "nbconvert_exporter": "python",
   "pygments_lexer": "ipython3",
   "version": "3.8.8"
  }
 },
 "nbformat": 4,
 "nbformat_minor": 5
}
