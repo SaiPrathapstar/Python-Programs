{
 "cells": [
  {
   "cell_type": "code",
   "execution_count": 1,
   "id": "e8fcd368",
   "metadata": {},
   "outputs": [],
   "source": [
    "nested = [[2,[37]] , 4 , [\"hello\"]]"
   ]
  },
  {
   "cell_type": "code",
   "execution_count": 10,
   "id": "b6a37e2a",
   "metadata": {},
   "outputs": [
    {
     "data": {
      "text/plain": [
       "[2, [37]]"
      ]
     },
     "execution_count": 10,
     "metadata": {},
     "output_type": "execute_result"
    }
   ],
   "source": [
    "nested[0]"
   ]
  },
  {
   "cell_type": "code",
   "execution_count": 12,
   "id": "8975fc63",
   "metadata": {},
   "outputs": [
    {
     "data": {
      "text/plain": [
       "[[37]]"
      ]
     },
     "execution_count": 12,
     "metadata": {},
     "output_type": "execute_result"
    }
   ],
   "source": [
    "nested[0][1:]"
   ]
  },
  {
   "cell_type": "code",
   "execution_count": 13,
   "id": "8b90726b",
   "metadata": {},
   "outputs": [
    {
     "data": {
      "text/plain": [
       "4"
      ]
     },
     "execution_count": 13,
     "metadata": {},
     "output_type": "execute_result"
    }
   ],
   "source": [
    "nested[1]"
   ]
  },
  {
   "cell_type": "code",
   "execution_count": 14,
   "id": "a27c6d59",
   "metadata": {},
   "outputs": [
    {
     "data": {
      "text/plain": [
       "['hello']"
      ]
     },
     "execution_count": 14,
     "metadata": {},
     "output_type": "execute_result"
    }
   ],
   "source": [
    "nested[2]"
   ]
  },
  {
   "cell_type": "code",
   "execution_count": 15,
   "id": "92a9e9e5",
   "metadata": {},
   "outputs": [
    {
     "data": {
      "text/plain": [
       "'hello'"
      ]
     },
     "execution_count": 15,
     "metadata": {},
     "output_type": "execute_result"
    }
   ],
   "source": [
    "nested[2][0]"
   ]
  },
  {
   "cell_type": "code",
   "execution_count": 16,
   "id": "c2241dbd",
   "metadata": {},
   "outputs": [
    {
     "data": {
      "text/plain": [
       "'e'"
      ]
     },
     "execution_count": 16,
     "metadata": {},
     "output_type": "execute_result"
    }
   ],
   "source": [
    "nested[2][0][1]"
   ]
  },
  {
   "cell_type": "code",
   "execution_count": 2,
   "id": "1bacc9e3",
   "metadata": {},
   "outputs": [
    {
     "data": {
      "text/plain": [
       "list"
      ]
     },
     "execution_count": 2,
     "metadata": {},
     "output_type": "execute_result"
    }
   ],
   "source": [
    "type(nested)"
   ]
  },
  {
   "cell_type": "code",
   "execution_count": 3,
   "id": "eb128836",
   "metadata": {},
   "outputs": [
    {
     "data": {
      "text/plain": [
       "list"
      ]
     },
     "execution_count": 3,
     "metadata": {},
     "output_type": "execute_result"
    }
   ],
   "source": [
    "type(nested[0])"
   ]
  },
  {
   "cell_type": "code",
   "execution_count": 4,
   "id": "ce5c34f5",
   "metadata": {},
   "outputs": [
    {
     "data": {
      "text/plain": [
       "int"
      ]
     },
     "execution_count": 4,
     "metadata": {},
     "output_type": "execute_result"
    }
   ],
   "source": [
    "type(nested[1])"
   ]
  },
  {
   "cell_type": "code",
   "execution_count": 5,
   "id": "a74a08f5",
   "metadata": {},
   "outputs": [
    {
     "data": {
      "text/plain": [
       "list"
      ]
     },
     "execution_count": 5,
     "metadata": {},
     "output_type": "execute_result"
    }
   ],
   "source": [
    "type(nested[2])"
   ]
  },
  {
   "cell_type": "code",
   "execution_count": 6,
   "id": "b9204abd",
   "metadata": {},
   "outputs": [
    {
     "data": {
      "text/plain": [
       "str"
      ]
     },
     "execution_count": 6,
     "metadata": {},
     "output_type": "execute_result"
    }
   ],
   "source": [
    "type(nested[2][0])"
   ]
  },
  {
   "cell_type": "code",
   "execution_count": 9,
   "id": "3e0efabb",
   "metadata": {},
   "outputs": [
    {
     "data": {
      "text/plain": [
       "str"
      ]
     },
     "execution_count": 9,
     "metadata": {},
     "output_type": "execute_result"
    }
   ],
   "source": [
    "type(nested[2][0][3])"
   ]
  },
  {
   "cell_type": "code",
   "execution_count": 17,
   "id": "82454071",
   "metadata": {},
   "outputs": [],
   "source": [
    "nested[1] = 7"
   ]
  },
  {
   "cell_type": "code",
   "execution_count": 19,
   "id": "8c388f8c",
   "metadata": {},
   "outputs": [],
   "source": [
    "nested[0] = 2"
   ]
  },
  {
   "cell_type": "code",
   "execution_count": 21,
   "id": "33c9ce72",
   "metadata": {},
   "outputs": [],
   "source": [
    "nested[0] = [2,[37]]"
   ]
  },
  {
   "cell_type": "code",
   "execution_count": 24,
   "id": "af978b41",
   "metadata": {},
   "outputs": [
    {
     "data": {
      "text/plain": [
       "[[2, 37], 7, ['hello']]"
      ]
     },
     "execution_count": 24,
     "metadata": {},
     "output_type": "execute_result"
    }
   ],
   "source": [
    "nested"
   ]
  },
  {
   "cell_type": "code",
   "execution_count": 23,
   "id": "edce062f",
   "metadata": {},
   "outputs": [],
   "source": [
    "nested[0][1] = 37"
   ]
  },
  {
   "cell_type": "code",
   "execution_count": 28,
   "id": "e344b184",
   "metadata": {},
   "outputs": [],
   "source": [
    "nested[2][0] = nested[2][0][0:3] + 'p!'"
   ]
  },
  {
   "cell_type": "code",
   "execution_count": 29,
   "id": "895bafe1",
   "metadata": {},
   "outputs": [
    {
     "data": {
      "text/plain": [
       "[[2, 37], 7, ['help!']]"
      ]
     },
     "execution_count": 29,
     "metadata": {},
     "output_type": "execute_result"
    }
   ],
   "source": [
    "nested"
   ]
  },
  {
   "cell_type": "code",
   "execution_count": 30,
   "id": "c8d1e01a",
   "metadata": {},
   "outputs": [],
   "source": [
    "list1 = [1,3,5,7]\n",
    "list2 = [1,3,5,7]\n",
    "list3 = list2"
   ]
  },
  {
   "cell_type": "code",
   "execution_count": 31,
   "id": "2ec575b6",
   "metadata": {},
   "outputs": [
    {
     "data": {
      "text/plain": [
       "True"
      ]
     },
     "execution_count": 31,
     "metadata": {},
     "output_type": "execute_result"
    }
   ],
   "source": [
    "list1 == list2"
   ]
  },
  {
   "cell_type": "code",
   "execution_count": 32,
   "id": "bfd3d4a9",
   "metadata": {},
   "outputs": [
    {
     "data": {
      "text/plain": [
       "True"
      ]
     },
     "execution_count": 32,
     "metadata": {},
     "output_type": "execute_result"
    }
   ],
   "source": [
    "list2 == list3"
   ]
  },
  {
   "cell_type": "code",
   "execution_count": 33,
   "id": "6f96f881",
   "metadata": {},
   "outputs": [
    {
     "data": {
      "text/plain": [
       "True"
      ]
     },
     "execution_count": 33,
     "metadata": {},
     "output_type": "execute_result"
    }
   ],
   "source": [
    "list2 is list3"
   ]
  },
  {
   "cell_type": "code",
   "execution_count": 34,
   "id": "4798e4ce",
   "metadata": {},
   "outputs": [
    {
     "data": {
      "text/plain": [
       "False"
      ]
     },
     "execution_count": 34,
     "metadata": {},
     "output_type": "execute_result"
    }
   ],
   "source": [
    "list1 is list2"
   ]
  },
  {
   "cell_type": "code",
   "execution_count": 38,
   "id": "b853a535",
   "metadata": {},
   "outputs": [],
   "source": [
    "list2[1] = 6"
   ]
  },
  {
   "cell_type": "code",
   "execution_count": 39,
   "id": "8100ba91",
   "metadata": {},
   "outputs": [
    {
     "data": {
      "text/plain": [
       "[1, 6, 5, 7]"
      ]
     },
     "execution_count": 39,
     "metadata": {},
     "output_type": "execute_result"
    }
   ],
   "source": [
    "list3"
   ]
  },
  {
   "cell_type": "code",
   "execution_count": 40,
   "id": "4ef39d92",
   "metadata": {},
   "outputs": [
    {
     "data": {
      "text/plain": [
       "True"
      ]
     },
     "execution_count": 40,
     "metadata": {},
     "output_type": "execute_result"
    }
   ],
   "source": [
    "list2 is list3"
   ]
  },
  {
   "cell_type": "code",
   "execution_count": 42,
   "id": "349a8f6d",
   "metadata": {},
   "outputs": [],
   "source": [
    "list2 = list2 + [9]"
   ]
  },
  {
   "cell_type": "code",
   "execution_count": 43,
   "id": "2fbdccdb",
   "metadata": {},
   "outputs": [
    {
     "data": {
      "text/plain": [
       "[1, 6, 5, 7, 9]"
      ]
     },
     "execution_count": 43,
     "metadata": {},
     "output_type": "execute_result"
    }
   ],
   "source": [
    "list2"
   ]
  },
  {
   "cell_type": "code",
   "execution_count": 44,
   "id": "d567d82f",
   "metadata": {},
   "outputs": [
    {
     "data": {
      "text/plain": [
       "[1, 6, 5, 7]"
      ]
     },
     "execution_count": 44,
     "metadata": {},
     "output_type": "execute_result"
    }
   ],
   "source": [
    "list3"
   ]
  },
  {
   "cell_type": "code",
   "execution_count": 45,
   "id": "119a672d",
   "metadata": {},
   "outputs": [
    {
     "data": {
      "text/plain": [
       "False"
      ]
     },
     "execution_count": 45,
     "metadata": {},
     "output_type": "execute_result"
    }
   ],
   "source": [
    "list2 is list3"
   ]
  },
  {
   "cell_type": "code",
   "execution_count": 7,
   "id": "6b3a6b59",
   "metadata": {},
   "outputs": [],
   "source": [
    "def li(ll):\n",
    "    ll = ll + [7]"
   ]
  },
  {
   "cell_type": "code",
   "execution_count": 8,
   "id": "7c01c92a",
   "metadata": {},
   "outputs": [],
   "source": [
    "l = [1,2,3,4,5]\n",
    "li(l)"
   ]
  },
  {
   "cell_type": "code",
   "execution_count": 9,
   "id": "60c3e18f",
   "metadata": {},
   "outputs": [
    {
     "data": {
      "text/plain": [
       "[1, 2, 3, 4, 5]"
      ]
     },
     "execution_count": 9,
     "metadata": {},
     "output_type": "execute_result"
    }
   ],
   "source": [
    "l"
   ]
  },
  {
   "cell_type": "code",
   "execution_count": 10,
   "id": "0f5711d1",
   "metadata": {},
   "outputs": [],
   "source": [
    "def lis(ll):\n",
    "    ll = ll.append(7)"
   ]
  },
  {
   "cell_type": "code",
   "execution_count": 11,
   "id": "5b551755",
   "metadata": {},
   "outputs": [],
   "source": [
    "lis(l)"
   ]
  },
  {
   "cell_type": "code",
   "execution_count": 12,
   "id": "3f9534bc",
   "metadata": {},
   "outputs": [
    {
     "data": {
      "text/plain": [
       "[1, 2, 3, 4, 5, 7]"
      ]
     },
     "execution_count": 12,
     "metadata": {},
     "output_type": "execute_result"
    }
   ],
   "source": [
    "l"
   ]
  }
 ],
 "metadata": {
  "kernelspec": {
   "display_name": "Python 3",
   "language": "python",
   "name": "python3"
  },
  "language_info": {
   "codemirror_mode": {
    "name": "ipython",
    "version": 3
   },
   "file_extension": ".py",
   "mimetype": "text/x-python",
   "name": "python",
   "nbconvert_exporter": "python",
   "pygments_lexer": "ipython3",
   "version": "3.8.8"
  }
 },
 "nbformat": 4,
 "nbformat_minor": 5
}
