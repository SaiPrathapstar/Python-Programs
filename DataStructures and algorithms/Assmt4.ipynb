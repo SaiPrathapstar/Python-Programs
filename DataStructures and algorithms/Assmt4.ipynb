{
 "cells": [
  {
   "cell_type": "code",
   "execution_count": 9,
   "id": "16cb54e3",
   "metadata": {},
   "outputs": [],
   "source": [
    "def mystery(l,v):\n",
    "    if len(l) == 0:\n",
    "        return(v)\n",
    "    else:\n",
    "        return(mystery(l[:-1], l[-1]+v))"
   ]
  },
  {
   "cell_type": "code",
   "execution_count": 11,
   "id": "c49aa2da",
   "metadata": {},
   "outputs": [
    {
     "data": {
      "text/plain": [
       "258"
      ]
     },
     "execution_count": 11,
     "metadata": {},
     "output_type": "execute_result"
    }
   ],
   "source": [
    "mystery([22,14,19,65,82,55],1)"
   ]
  },
  {
   "cell_type": "code",
   "execution_count": 12,
   "id": "f2d09882",
   "metadata": {},
   "outputs": [
    {
     "data": {
      "text/plain": [
       "[(2, 4, 5), (3, 3, 5), (3, 4, 5), (3, 4, 6)]"
      ]
     },
     "execution_count": 12,
     "metadata": {},
     "output_type": "execute_result"
    }
   ],
   "source": [
    "[(x,y,z) for x in range(2,4) for y in range(2,5) for z in range(5,7) if 2*x*y > 3*z]"
   ]
  },
  {
   "cell_type": "code",
   "execution_count": 13,
   "id": "fe4cc5bc",
   "metadata": {},
   "outputs": [],
   "source": [
    "actor = {}"
   ]
  },
  {
   "cell_type": "code",
   "execution_count": 15,
   "id": "cf0bf3fb",
   "metadata": {},
   "outputs": [
    {
     "ename": "SyntaxError",
     "evalue": "invalid syntax (<ipython-input-15-00057a5b58fe>, line 1)",
     "output_type": "error",
     "traceback": [
      "\u001b[1;36m  File \u001b[1;32m\"<ipython-input-15-00057a5b58fe>\"\u001b[1;36m, line \u001b[1;32m1\u001b[0m\n\u001b[1;33m    actor[[]'Star Wars' ,'Rey'] = 'Ridley'\u001b[0m\n\u001b[1;37m            ^\u001b[0m\n\u001b[1;31mSyntaxError\u001b[0m\u001b[1;31m:\u001b[0m invalid syntax\n"
     ]
    }
   ],
   "source": [
    "actor[[]'Star Wars' ,'Rey'] = 'Ridley'"
   ]
  },
  {
   "cell_type": "code",
   "execution_count": null,
   "id": "554d0724",
   "metadata": {},
   "outputs": [],
   "source": [
    "def orangecap(d):\n",
    "    players = []\n",
    "    for match in d.keys():\n",
    "        for player in match.keys():\n",
    "            players.append(player)\n",
    "    players = list(set(players))\n",
    "    scores = {}\n",
    "    for match in d.keys():\n",
    "        for player in match.keys():\n",
    "            if player in "
   ]
  },
  {
   "cell_type": "code",
   "execution_count": 33,
   "id": "a326734c",
   "metadata": {},
   "outputs": [],
   "source": [
    "def orangecap(d):\n",
    "    scores = {}\n",
    "    for match in d.keys():\n",
    "        for player in d[match].keys():\n",
    "            if player in scores.keys():\n",
    "                scores[player]+=d[match][player]\n",
    "            else:\n",
    "                scores[player] = d[match][player]\n",
    "    max_key = max(scores,key=scores.get)\n",
    "    max_val = max(scores.values())\n",
    "    return ({max_key,max_val})"
   ]
  },
  {
   "cell_type": "code",
   "execution_count": 34,
   "id": "6e839b65",
   "metadata": {},
   "outputs": [
    {
     "data": {
      "text/plain": [
       "{100, 'player3'}"
      ]
     },
     "execution_count": 34,
     "metadata": {},
     "output_type": "execute_result"
    }
   ],
   "source": [
    "orangecap({'match1':{'player1':57, 'player2':38}, 'match2':{'player3':9, 'player1':42}, 'match3':{'player2':41, 'player4':63, 'player3':91}})"
   ]
  },
  {
   "cell_type": "code",
   "execution_count": 25,
   "id": "4a0937ca",
   "metadata": {},
   "outputs": [
    {
     "data": {
      "text/plain": [
       "100"
      ]
     },
     "execution_count": 25,
     "metadata": {},
     "output_type": "execute_result"
    }
   ],
   "source": [
    "max(sc.values())"
   ]
  },
  {
   "cell_type": "code",
   "execution_count": 20,
   "id": "b9fef4d4",
   "metadata": {},
   "outputs": [
    {
     "data": {
      "text/plain": [
       "{'player1': 99, 'player2': 79, 'player3': 100, 'player4': 63}"
      ]
     },
     "execution_count": 20,
     "metadata": {},
     "output_type": "execute_result"
    }
   ],
   "source": [
    "sc"
   ]
  },
  {
   "cell_type": "code",
   "execution_count": 8,
   "id": "09e4b2f4",
   "metadata": {},
   "outputs": [
    {
     "name": "stdout",
     "output_type": "stream",
     "text": [
      "['a', 'e', 'r', 'y', '3', 'l', 'p']\n",
      "match3\n"
     ]
    }
   ],
   "source": [
    "d = {'match1':{'player1':57, 'player2':38}, 'match2':{'player3':9, 'player1':42}, 'match3':{'player2':41, 'player4':63, 'player3':91}}\n",
    "matches = list(d.keys())\n",
    "players = []\n",
    "for match in matches:\n",
    "    for player in d[match].keys():\n",
    "        players.append(player)\n",
    "player = list(set(player))\n",
    "print(player)\n",
    "print(match)"
   ]
  },
  {
   "cell_type": "code",
   "execution_count": 9,
   "id": "51bdce01",
   "metadata": {},
   "outputs": [
    {
     "data": {
      "text/plain": [
       "['match1', 'match2', 'match3']"
      ]
     },
     "execution_count": 9,
     "metadata": {},
     "output_type": "execute_result"
    }
   ],
   "source": [
    "matches"
   ]
  },
  {
   "cell_type": "code",
   "execution_count": 10,
   "id": "f49a6b9f",
   "metadata": {},
   "outputs": [
    {
     "data": {
      "text/plain": [
       "dict_keys(['player1', 'player2'])"
      ]
     },
     "execution_count": 10,
     "metadata": {},
     "output_type": "execute_result"
    }
   ],
   "source": [
    "d[matches[0]].keys()"
   ]
  },
  {
   "cell_type": "code",
   "execution_count": 11,
   "id": "cebba5fd",
   "metadata": {},
   "outputs": [
    {
     "data": {
      "text/plain": [
       "57"
      ]
     },
     "execution_count": 11,
     "metadata": {},
     "output_type": "execute_result"
    }
   ],
   "source": [
    "d[matches[0]]['player1']"
   ]
  },
  {
   "cell_type": "code",
   "execution_count": 32,
   "id": "341bf539",
   "metadata": {},
   "outputs": [
    {
     "name": "stdout",
     "output_type": "stream",
     "text": [
      "b\n"
     ]
    }
   ],
   "source": [
    "a_dictionary = {\"a\": 1, \"b\": 4, \"c\": 3}\n",
    "max_key = max(a_dictionary, key=a_dictionary. get)\n",
    "print(max_key)"
   ]
  },
  {
   "cell_type": "code",
   "execution_count": 37,
   "id": "c93cb047",
   "metadata": {},
   "outputs": [],
   "source": [
    "s = (3,4)\n",
    "a = (2,4)"
   ]
  },
  {
   "cell_type": "code",
   "execution_count": 43,
   "id": "f30cfa52",
   "metadata": {},
   "outputs": [
    {
     "name": "stdout",
     "output_type": "stream",
     "text": [
      "(6,4)\n"
     ]
    }
   ],
   "source": [
    "if (s[1] == a[1]):\n",
    "    print(f'({s[0]*a[0]},{s[1]})')"
   ]
  },
  {
   "cell_type": "code",
   "execution_count": 44,
   "id": "4ade5b2e",
   "metadata": {},
   "outputs": [],
   "source": []
  },
  {
   "cell_type": "code",
   "execution_count": 25,
   "id": "75562c4a",
   "metadata": {},
   "outputs": [
    {
     "ename": "IndentationError",
     "evalue": "expected an indented block (<ipython-input-25-61dc30cac1f3>, line 5)",
     "output_type": "error",
     "traceback": [
      "\u001b[1;36m  File \u001b[1;32m\"<ipython-input-25-61dc30cac1f3>\"\u001b[1;36m, line \u001b[1;32m5\u001b[0m\n\u001b[1;33m    return n[-1]\u001b[0m\n\u001b[1;37m    ^\u001b[0m\n\u001b[1;31mIndentationError\u001b[0m\u001b[1;31m:\u001b[0m expected an indented block\n"
     ]
    }
   ],
   "source": [
    "def addpoly(l1,l2):\n",
    "    if len(l1) < len(l2):\n",
    "        (l1,l2) = (l2,l1)\n",
    "    def last(n):\n",
    "        return n[-1]\n",
    "    def sort(tuples):\n",
    "        return sorted(tuples, key=last)\n",
    "    l3 = []\n",
    "    l4 = []\n",
    "    for i in range(max(len(l1) , len(l2))):\n",
    "        for j in range(i,(min(len(l1) , len(l2)))):\n",
    "            if l1[i][1] == l2[j][1]:\n",
    "                l3.append( (l1[i][0]+l2[j][0] , l2[j][1]) )\n",
    "                break\n",
    "    p3 = [x[1] for x in l3]\n",
    "    p1 = [x for x in l1 if x[1] not in p3]\n",
    "    p2 = [x for x in l2 if x[1] not in p3]\n",
    "    if p1 != []:\n",
    "        l3.append(p1)\n",
    "    if p2 != []:\n",
    "        l3.append(p2)\n",
    "    for i in range(len(l3)):\n",
    "        if(l3[i][0] != 0):\n",
    "            l4.append(l3[i])\n",
    "    #14.sort(key = lambda x : x[1])\n",
    "    l5 = sort(l4)\n",
    "    return(l5)"
   ]
  },
  {
   "cell_type": "code",
   "execution_count": 26,
   "id": "74445694",
   "metadata": {},
   "outputs": [
    {
     "data": {
      "text/plain": [
       "[[(2, 1)], [(3, 0)]]"
      ]
     },
     "execution_count": 26,
     "metadata": {},
     "output_type": "execute_result"
    }
   ],
   "source": [
    "addpoly([(4,3),(3,0)],[(-4,3),(2,1)])"
   ]
  },
  {
   "cell_type": "code",
   "execution_count": 48,
   "id": "830497d1",
   "metadata": {},
   "outputs": [],
   "source": [
    "p1 = [x for x in l1 if x[1] not in  ]"
   ]
  },
  {
   "cell_type": "code",
   "execution_count": 49,
   "id": "bc95c8c1",
   "metadata": {},
   "outputs": [
    {
     "data": {
      "text/plain": [
       "[4, 3, 1, 0]"
      ]
     },
     "execution_count": 49,
     "metadata": {},
     "output_type": "execute_result"
    }
   ],
   "source": [
    "p1"
   ]
  },
  {
   "cell_type": "code",
   "execution_count": 58,
   "id": "a937d5dc",
   "metadata": {},
   "outputs": [],
   "source": [
    "l = [3,4,5]"
   ]
  },
  {
   "cell_type": "code",
   "execution_count": 59,
   "id": "45d38c6e",
   "metadata": {},
   "outputs": [
    {
     "data": {
      "text/plain": [
       "3"
      ]
     },
     "execution_count": 59,
     "metadata": {},
     "output_type": "execute_result"
    }
   ],
   "source": [
    "l.pop(0)"
   ]
  },
  {
   "cell_type": "code",
   "execution_count": 60,
   "id": "9b736a28",
   "metadata": {},
   "outputs": [
    {
     "data": {
      "text/plain": [
       "[4, 5]"
      ]
     },
     "execution_count": 60,
     "metadata": {},
     "output_type": "execute_result"
    }
   ],
   "source": [
    "l"
   ]
  },
  {
   "cell_type": "code",
   "execution_count": 29,
   "id": "67d15316",
   "metadata": {},
   "outputs": [],
   "source": [
    "def multpoly(l1,l2):\n",
    "    def last(n):\n",
    "        return n[-1]\n",
    "    def sort(tuples):\n",
    "        return sorted(tuples, key=last)\n",
    "    if len(l1) < len(l2):\n",
    "        (l1,l2) = (l2,l1)\n",
    "    l3 = []\n",
    "    for i in range(max(len(l1) , len(l2))):\n",
    "        for j in range(i,(min(len(l1) , len(l2)))):\n",
    "            l3.append( (l1[i][0]*l2[j][0] , l2[j][1]*2) )\n",
    "    d = {x:0 for x, _ in l3}\n",
    "    for name, num in l3: d[name] += num\n",
    "    Output = list(map(tuple, d.items()))\n",
    "    fin = sort(Output)\n",
    "    return(fin)"
   ]
  },
  {
   "cell_type": "code",
   "execution_count": 29,
   "id": "c4b95d70",
   "metadata": {},
   "outputs": [
    {
     "data": {
      "text/plain": [
       "[(1, 3), (-1, 0)]"
      ]
     },
     "execution_count": 29,
     "metadata": {},
     "output_type": "execute_result"
    }
   ],
   "source": [
    "multpoly([(1,1),(-1,0)],[(1,2),(1,1),(1,0)])"
   ]
  },
  {
   "cell_type": "code",
   "execution_count": 28,
   "id": "67703be8",
   "metadata": {},
   "outputs": [],
   "source": [
    "def multpoly(l1 , l2):\n",
    "    l3 = []\n",
    "    if len(l1) < len(l2):\n",
    "        (l1,l2) = (l2,l1)\n",
    "    for i in range(len(l1)):\n",
    "        for j in range(len(l2)):\n",
    "            l3.append( (l1[i][0]*l2[j][0] , l1[i][1]+l2[j][1]) )\n",
    "    t = {v:0 for i,v in l3}\n",
    "    for value,key in l3:\n",
    "        t[key] = t[key] + value\n",
    "    x = list(t.values())\n",
    "    y = list(t.keys())\n",
    "    i = 0\n",
    "    z = []\n",
    "    while i < len(x):\n",
    "        if x[i] != 0: \n",
    "            z.append((x[i],y[i]))\n",
    "        i+=1\n",
    "    return(z)"
   ]
  },
  {
   "cell_type": "code",
   "execution_count": 4,
   "id": "6bf2128b",
   "metadata": {},
   "outputs": [],
   "source": [
    "l3 = [(1,3) , (-1,2),(1,2),(-1,1),(1,1),(-1,0)]"
   ]
  },
  {
   "cell_type": "code",
   "execution_count": 6,
   "id": "4e110aad",
   "metadata": {},
   "outputs": [],
   "source": [
    "t = {v:0 for i,v in l3}"
   ]
  },
  {
   "cell_type": "code",
   "execution_count": 7,
   "id": "96c8e6d5",
   "metadata": {},
   "outputs": [
    {
     "data": {
      "text/plain": [
       "{3: 0, 2: 0, 1: 0, 0: 0}"
      ]
     },
     "execution_count": 7,
     "metadata": {},
     "output_type": "execute_result"
    }
   ],
   "source": [
    "t"
   ]
  },
  {
   "cell_type": "code",
   "execution_count": 8,
   "id": "aa6cdede",
   "metadata": {},
   "outputs": [],
   "source": [
    "for value,key in l3:\n",
    "    t[key] = t[key] + value"
   ]
  },
  {
   "cell_type": "code",
   "execution_count": 9,
   "id": "254feace",
   "metadata": {},
   "outputs": [
    {
     "data": {
      "text/plain": [
       "{3: 1, 2: 0, 1: 0, 0: -1}"
      ]
     },
     "execution_count": 9,
     "metadata": {},
     "output_type": "execute_result"
    }
   ],
   "source": [
    "t"
   ]
  },
  {
   "cell_type": "code",
   "execution_count": null,
   "id": "1a767111",
   "metadata": {},
   "outputs": [],
   "source": [
    "res = list(map(tuple,))"
   ]
  },
  {
   "cell_type": "code",
   "execution_count": 10,
   "id": "7f6eb6f0",
   "metadata": {},
   "outputs": [
    {
     "data": {
      "text/plain": [
       "dict_items([(3, 1), (2, 0), (1, 0), (0, -1)])"
      ]
     },
     "execution_count": 10,
     "metadata": {},
     "output_type": "execute_result"
    }
   ],
   "source": [
    "t.items()"
   ]
  },
  {
   "cell_type": "code",
   "execution_count": 15,
   "id": "71f8c046",
   "metadata": {},
   "outputs": [],
   "source": [
    "x = list(t.values())"
   ]
  },
  {
   "cell_type": "code",
   "execution_count": 16,
   "id": "4437ddc5",
   "metadata": {},
   "outputs": [],
   "source": [
    "y = list(t.keys())"
   ]
  },
  {
   "cell_type": "code",
   "execution_count": 17,
   "id": "363f5319",
   "metadata": {},
   "outputs": [
    {
     "data": {
      "text/plain": [
       "[1, 0, 0, -1]"
      ]
     },
     "execution_count": 17,
     "metadata": {},
     "output_type": "execute_result"
    }
   ],
   "source": [
    "x"
   ]
  },
  {
   "cell_type": "code",
   "execution_count": 18,
   "id": "753de81d",
   "metadata": {},
   "outputs": [
    {
     "data": {
      "text/plain": [
       "[3, 2, 1, 0]"
      ]
     },
     "execution_count": 18,
     "metadata": {},
     "output_type": "execute_result"
    }
   ],
   "source": [
    "y"
   ]
  },
  {
   "cell_type": "code",
   "execution_count": 26,
   "id": "c9e58b7d",
   "metadata": {},
   "outputs": [],
   "source": [
    "i = 0\n",
    "z = []\n",
    "while i < len(x):\n",
    "    if x[i] != 0: \n",
    "        z.append((x[i],y[i]))\n",
    "    i+=1"
   ]
  },
  {
   "cell_type": "code",
   "execution_count": 27,
   "id": "f05cc8f9",
   "metadata": {},
   "outputs": [
    {
     "data": {
      "text/plain": [
       "[(1, 3), (-1, 0)]"
      ]
     },
     "execution_count": 27,
     "metadata": {},
     "output_type": "execute_result"
    }
   ],
   "source": [
    "z"
   ]
  },
  {
   "cell_type": "code",
   "execution_count": 33,
   "id": "372224a3",
   "metadata": {},
   "outputs": [],
   "source": [
    "def addpoly(l1,l2):\n",
    "    l3 = []\n",
    "    if(len(l1) < len(l2)):\n",
    "        (l1,l2) = (l2,l1)\n",
    "    for i in range(len(l1)):\n",
    "        for j in range(len(l2)):\n",
    "            if l1[i][1] == l2[j][1]:\n",
    "                if l1[i][0] + l2[j][0] != 0:\n",
    "                    l3.append( (l1[i][0] + l2[j][0] , l1[i][1]) )\n",
    "    p3 = [x[1] for x in l3]\n",
    "    p1 = [x for x in l1 if x[1] not in p3 and x[0] != 0]\n",
    "    p2 = [x for x in l2 if x[1] not in p3 and x[0] != 0]\n",
    "    l3.append(p1)\n",
    "    l3.append(p2)\n",
    "    return l3"
   ]
  },
  {
   "cell_type": "code",
   "execution_count": 34,
   "id": "10c6dee7",
   "metadata": {},
   "outputs": [
    {
     "data": {
      "text/plain": [
       "[[(4, 3), (3, 0)], [(-4, 3), (2, 1)]]"
      ]
     },
     "execution_count": 34,
     "metadata": {},
     "output_type": "execute_result"
    }
   ],
   "source": [
    "addpoly([(4,3),(3,0)],[(-4,3),(2,1)])"
   ]
  },
  {
   "cell_type": "code",
   "execution_count": null,
   "id": "e7d80e96",
   "metadata": {},
   "outputs": [],
   "source": []
  },
  {
   "cell_type": "code",
   "execution_count": null,
   "id": "3794331d",
   "metadata": {},
   "outputs": [],
   "source": []
  },
  {
   "cell_type": "code",
   "execution_count": null,
   "id": "ca29df1d",
   "metadata": {},
   "outputs": [],
   "source": []
  },
  {
   "cell_type": "code",
   "execution_count": null,
   "id": "1d6a5292",
   "metadata": {},
   "outputs": [],
   "source": []
  },
  {
   "cell_type": "code",
   "execution_count": null,
   "id": "2740b7cb",
   "metadata": {},
   "outputs": [],
   "source": []
  },
  {
   "cell_type": "code",
   "execution_count": null,
   "id": "86f6004a",
   "metadata": {},
   "outputs": [],
   "source": []
  },
  {
   "cell_type": "code",
   "execution_count": null,
   "id": "c746f30f",
   "metadata": {},
   "outputs": [],
   "source": []
  },
  {
   "cell_type": "code",
   "execution_count": null,
   "id": "3850141a",
   "metadata": {},
   "outputs": [],
   "source": []
  },
  {
   "cell_type": "code",
   "execution_count": null,
   "id": "fe2a1336",
   "metadata": {},
   "outputs": [],
   "source": []
  },
  {
   "cell_type": "code",
   "execution_count": null,
   "id": "dfe3c003",
   "metadata": {},
   "outputs": [],
   "source": []
  },
  {
   "cell_type": "code",
   "execution_count": null,
   "id": "2b689b93",
   "metadata": {},
   "outputs": [],
   "source": []
  },
  {
   "cell_type": "code",
   "execution_count": null,
   "id": "ddf27dda",
   "metadata": {},
   "outputs": [],
   "source": []
  }
 ],
 "metadata": {
  "kernelspec": {
   "display_name": "Python 3",
   "language": "python",
   "name": "python3"
  },
  "language_info": {
   "codemirror_mode": {
    "name": "ipython",
    "version": 3
   },
   "file_extension": ".py",
   "mimetype": "text/x-python",
   "name": "python",
   "nbconvert_exporter": "python",
   "pygments_lexer": "ipython3",
   "version": "3.8.8"
  }
 },
 "nbformat": 4,
 "nbformat_minor": 5
}
