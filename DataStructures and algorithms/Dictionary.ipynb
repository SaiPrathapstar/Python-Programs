{
 "cells": [
  {
   "cell_type": "code",
   "execution_count": 1,
   "id": "2ddb3c95",
   "metadata": {},
   "outputs": [],
   "source": [
    "score = {}"
   ]
  },
  {
   "cell_type": "code",
   "execution_count": 2,
   "id": "3d4e3e1f",
   "metadata": {},
   "outputs": [],
   "source": [
    "score[\"test1\"] = {}"
   ]
  },
  {
   "cell_type": "code",
   "execution_count": 3,
   "id": "a79dc6b1",
   "metadata": {},
   "outputs": [],
   "source": [
    "score[\"test2\"] = {}"
   ]
  },
  {
   "cell_type": "code",
   "execution_count": 4,
   "id": "214c0805",
   "metadata": {},
   "outputs": [],
   "source": [
    "score[\"test1\"][\"kohli\"] = 84"
   ]
  },
  {
   "cell_type": "code",
   "execution_count": 5,
   "id": "60f5b18e",
   "metadata": {},
   "outputs": [],
   "source": [
    "score[\"test1\"][\"dhawan\"] = 25"
   ]
  },
  {
   "cell_type": "code",
   "execution_count": 6,
   "id": "ed5e72fa",
   "metadata": {},
   "outputs": [],
   "source": [
    "score[\"test2\"][\"dhawan\"] = 50"
   ]
  },
  {
   "cell_type": "code",
   "execution_count": 7,
   "id": "d390b990",
   "metadata": {},
   "outputs": [
    {
     "data": {
      "text/plain": [
       "{'test1': {'kohli': 84, 'dhawan': 25}, 'test2': {'dhawan': 50}}"
      ]
     },
     "execution_count": 7,
     "metadata": {},
     "output_type": "execute_result"
    }
   ],
   "source": [
    "score"
   ]
  },
  {
   "cell_type": "code",
   "execution_count": 8,
   "id": "6795b4ce",
   "metadata": {},
   "outputs": [],
   "source": [
    "total = {}\n",
    "for n in [\"kohli\",\"dhawan\"]:\n",
    "    total[n] = 0\n",
    "    for match in score.keys():\n",
    "        if n in score[match].keys():\n",
    "            total[n] = total[n] + score[match][n]"
   ]
  },
  {
   "cell_type": "code",
   "execution_count": 9,
   "id": "cb368448",
   "metadata": {},
   "outputs": [
    {
     "data": {
      "text/plain": [
       "{'kohli': 84, 'dhawan': 75}"
      ]
     },
     "execution_count": 9,
     "metadata": {},
     "output_type": "execute_result"
    }
   ],
   "source": [
    "total"
   ]
  },
  {
   "cell_type": "code",
   "execution_count": 11,
   "id": "425f5000",
   "metadata": {},
   "outputs": [
    {
     "data": {
      "text/plain": [
       "dict_items([('test1', {'kohli': 84, 'dhawan': 25}), ('test2', {'dhawan': 50})])"
      ]
     },
     "execution_count": 11,
     "metadata": {},
     "output_type": "execute_result"
    }
   ],
   "source": [
    "score.items()"
   ]
  },
  {
   "cell_type": "code",
   "execution_count": 12,
   "id": "08d8e0e7",
   "metadata": {},
   "outputs": [
    {
     "data": {
      "text/plain": [
       "{'test1': {'kohli': 84, 'dhawan': 25}, 'test2': {'dhawan': 50}}"
      ]
     },
     "execution_count": 12,
     "metadata": {},
     "output_type": "execute_result"
    }
   ],
   "source": [
    "score"
   ]
  },
  {
   "cell_type": "code",
   "execution_count": 13,
   "id": "69bef6db",
   "metadata": {},
   "outputs": [
    {
     "data": {
      "text/plain": [
       "dict_keys(['test1', 'test2'])"
      ]
     },
     "execution_count": 13,
     "metadata": {},
     "output_type": "execute_result"
    }
   ],
   "source": [
    "score.keys()"
   ]
  },
  {
   "cell_type": "code",
   "execution_count": 14,
   "id": "edc1ecee",
   "metadata": {},
   "outputs": [
    {
     "data": {
      "text/plain": [
       "dict_values([{'kohli': 84, 'dhawan': 25}, {'dhawan': 50}])"
      ]
     },
     "execution_count": 14,
     "metadata": {},
     "output_type": "execute_result"
    }
   ],
   "source": [
    "score.values()"
   ]
  },
  {
   "cell_type": "code",
   "execution_count": null,
   "id": "49efc2c5",
   "metadata": {},
   "outputs": [],
   "source": []
  },
  {
   "cell_type": "code",
   "execution_count": null,
   "id": "65a1f431",
   "metadata": {},
   "outputs": [],
   "source": []
  },
  {
   "cell_type": "code",
   "execution_count": null,
   "id": "2d0fe56e",
   "metadata": {},
   "outputs": [],
   "source": []
  }
 ],
 "metadata": {
  "kernelspec": {
   "display_name": "Python 3",
   "language": "python",
   "name": "python3"
  },
  "language_info": {
   "codemirror_mode": {
    "name": "ipython",
    "version": 3
   },
   "file_extension": ".py",
   "mimetype": "text/x-python",
   "name": "python",
   "nbconvert_exporter": "python",
   "pygments_lexer": "ipython3",
   "version": "3.8.8"
  }
 },
 "nbformat": 4,
 "nbformat_minor": 5
}
