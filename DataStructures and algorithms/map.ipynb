{
 "cells": [
  {
   "cell_type": "code",
   "execution_count": 36,
   "id": "22938cdb",
   "metadata": {},
   "outputs": [],
   "source": [
    "def square(x):\n",
    "    return x*x"
   ]
  },
  {
   "cell_type": "code",
   "execution_count": 2,
   "id": "9184bc3e",
   "metadata": {},
   "outputs": [
    {
     "data": {
      "text/plain": [
       "81"
      ]
     },
     "execution_count": 2,
     "metadata": {},
     "output_type": "execute_result"
    }
   ],
   "source": [
    "square(9)"
   ]
  },
  {
   "cell_type": "code",
   "execution_count": 4,
   "id": "a69a5d96",
   "metadata": {},
   "outputs": [
    {
     "data": {
      "text/plain": [
       "[1, 4, 9]"
      ]
     },
     "execution_count": 4,
     "metadata": {},
     "output_type": "execute_result"
    }
   ],
   "source": [
    "list(map(square,[1,2,3]))"
   ]
  },
  {
   "cell_type": "code",
   "execution_count": 5,
   "id": "b1c89eb0",
   "metadata": {},
   "outputs": [
    {
     "data": {
      "text/plain": [
       "[0, 1, 4, 9, 16, 25, 36, 49, 64, 81]"
      ]
     },
     "execution_count": 5,
     "metadata": {},
     "output_type": "execute_result"
    }
   ],
   "source": [
    "list(map(square,range(10)))"
   ]
  },
  {
   "cell_type": "code",
   "execution_count": 6,
   "id": "eecb85cb",
   "metadata": {},
   "outputs": [],
   "source": [
    "def evens(x):\n",
    "    return x%2 == 0"
   ]
  },
  {
   "cell_type": "code",
   "execution_count": 7,
   "id": "a41a0b75",
   "metadata": {},
   "outputs": [
    {
     "data": {
      "text/plain": [
       "False"
      ]
     },
     "execution_count": 7,
     "metadata": {},
     "output_type": "execute_result"
    }
   ],
   "source": [
    "evens(3)"
   ]
  },
  {
   "cell_type": "code",
   "execution_count": 9,
   "id": "5fbf650b",
   "metadata": {},
   "outputs": [
    {
     "data": {
      "text/plain": [
       "[0, 2, 4, 6, 8]"
      ]
     },
     "execution_count": 9,
     "metadata": {},
     "output_type": "execute_result"
    }
   ],
   "source": [
    "list(filter(evens,range(10)))"
   ]
  },
  {
   "cell_type": "code",
   "execution_count": 10,
   "id": "0724ab7d",
   "metadata": {},
   "outputs": [
    {
     "data": {
      "text/plain": [
       "[0, 4, 16, 36, 64]"
      ]
     },
     "execution_count": 10,
     "metadata": {},
     "output_type": "execute_result"
    }
   ],
   "source": [
    "list(map(square,list(filter(evens,range(10)))))"
   ]
  },
  {
   "cell_type": "code",
   "execution_count": 15,
   "id": "cc090fc7",
   "metadata": {},
   "outputs": [
    {
     "data": {
      "text/plain": [
       "[0, 4, 16, 36, 64]"
      ]
     },
     "execution_count": 15,
     "metadata": {},
     "output_type": "execute_result"
    }
   ],
   "source": [
    "[square(i) for i in range(10) if evens(i)]"
   ]
  },
  {
   "cell_type": "code",
   "execution_count": 21,
   "id": "e8af3504",
   "metadata": {
    "collapsed": true
   },
   "outputs": [
    {
     "data": {
      "text/plain": [
       "[(3, 4, 5),\n",
       " (5, 12, 13),\n",
       " (6, 8, 10),\n",
       " (7, 24, 25),\n",
       " (8, 15, 17),\n",
       " (9, 12, 15),\n",
       " (9, 40, 41),\n",
       " (10, 24, 26),\n",
       " (11, 60, 61),\n",
       " (12, 16, 20),\n",
       " (12, 35, 37),\n",
       " (13, 84, 85),\n",
       " (14, 48, 50),\n",
       " (15, 20, 25),\n",
       " (15, 36, 39),\n",
       " (16, 30, 34),\n",
       " (16, 63, 65),\n",
       " (18, 24, 30),\n",
       " (18, 80, 82),\n",
       " (20, 21, 29),\n",
       " (20, 48, 52),\n",
       " (21, 28, 35),\n",
       " (21, 72, 75),\n",
       " (24, 32, 40),\n",
       " (24, 45, 51),\n",
       " (24, 70, 74),\n",
       " (25, 60, 65),\n",
       " (27, 36, 45),\n",
       " (28, 45, 53),\n",
       " (30, 40, 50),\n",
       " (30, 72, 78),\n",
       " (32, 60, 68),\n",
       " (33, 44, 55),\n",
       " (33, 56, 65),\n",
       " (35, 84, 91),\n",
       " (36, 48, 60),\n",
       " (36, 77, 85),\n",
       " (39, 52, 65),\n",
       " (39, 80, 89),\n",
       " (40, 42, 58),\n",
       " (40, 75, 85),\n",
       " (42, 56, 70),\n",
       " (45, 60, 75),\n",
       " (48, 55, 73),\n",
       " (48, 64, 80),\n",
       " (51, 68, 85),\n",
       " (54, 72, 90),\n",
       " (57, 76, 95),\n",
       " (60, 63, 87),\n",
       " (65, 72, 97)]"
      ]
     },
     "execution_count": 21,
     "metadata": {},
     "output_type": "execute_result"
    }
   ],
   "source": [
    "[(x,y,z) for x in range(1,100) for y in range(x,100) for z in range(y,100) if x*x + y*y == z*z]"
   ]
  },
  {
   "cell_type": "code",
   "execution_count": 22,
   "id": "e24c9e3b",
   "metadata": {},
   "outputs": [
    {
     "data": {
      "text/plain": [
       "[(0, 0),\n",
       " (0, 2),\n",
       " (0, 4),\n",
       " (0, 6),\n",
       " (0, 8),\n",
       " (1, 1),\n",
       " (1, 3),\n",
       " (1, 5),\n",
       " (1, 7),\n",
       " (1, 9),\n",
       " (2, 2),\n",
       " (2, 4),\n",
       " (2, 6),\n",
       " (2, 8),\n",
       " (3, 3),\n",
       " (3, 5),\n",
       " (3, 7),\n",
       " (3, 9),\n",
       " (4, 4),\n",
       " (4, 6),\n",
       " (4, 8),\n",
       " (5, 5),\n",
       " (5, 7),\n",
       " (5, 9),\n",
       " (6, 6),\n",
       " (6, 8),\n",
       " (7, 7),\n",
       " (7, 9),\n",
       " (8, 8),\n",
       " (9, 9)]"
      ]
     },
     "execution_count": 22,
     "metadata": {},
     "output_type": "execute_result"
    }
   ],
   "source": [
    "[(x,y) for x in range(10) for y in range(x,10) if evens(x+y)]"
   ]
  },
  {
   "cell_type": "code",
   "execution_count": 37,
   "id": "09f1d489",
   "metadata": {},
   "outputs": [
    {
     "data": {
      "text/plain": [
       "[0, 4, 16, 36, 64, 100, 144, 196, 256, 324, 400, 484, 576, 676, 784]"
      ]
     },
     "execution_count": 37,
     "metadata": {},
     "output_type": "execute_result"
    }
   ],
   "source": [
    "[square(i) for i in range(30) if evens(i)]"
   ]
  },
  {
   "cell_type": "code",
   "execution_count": 28,
   "id": "3d7fb361",
   "metadata": {},
   "outputs": [
    {
     "data": {
      "text/plain": [
       "<function __main__.<lambda>(x)>"
      ]
     },
     "execution_count": 28,
     "metadata": {},
     "output_type": "execute_result"
    }
   ],
   "source": [
    "lambda x: x%2 == 0"
   ]
  },
  {
   "cell_type": "code",
   "execution_count": 29,
   "id": "c066f9de",
   "metadata": {},
   "outputs": [
    {
     "data": {
      "text/plain": [
       "[0, 2, 4, 6, 8]"
      ]
     },
     "execution_count": 29,
     "metadata": {},
     "output_type": "execute_result"
    }
   ],
   "source": [
    "list(filter(lambda x : x%2 == 0 , range(10)))"
   ]
  },
  {
   "cell_type": "code",
   "execution_count": 38,
   "id": "5edc54c0",
   "metadata": {},
   "outputs": [],
   "source": [
    "def cube(x):\n",
    "    return x*x*x"
   ]
  },
  {
   "cell_type": "code",
   "execution_count": 41,
   "id": "be6414f3",
   "metadata": {},
   "outputs": [
    {
     "data": {
      "text/plain": [
       "[(0, 0),\n",
       " (1, 1),\n",
       " (4, 8),\n",
       " (9, 27),\n",
       " (16, 64),\n",
       " (25, 125),\n",
       " (36, 216),\n",
       " (49, 343),\n",
       " (64, 512),\n",
       " (81, 729)]"
      ]
     },
     "execution_count": 41,
     "metadata": {},
     "output_type": "execute_result"
    }
   ],
   "source": [
    "list([(square(i) , cube(i)) for i in range(10) ])"
   ]
  },
  {
   "cell_type": "code",
   "execution_count": 43,
   "id": "74d3b264",
   "metadata": {},
   "outputs": [
    {
     "data": {
      "text/plain": [
       "[0, 1, 4, 9, 16, 25, 36, 49, 64, 81]"
      ]
     },
     "execution_count": 43,
     "metadata": {},
     "output_type": "execute_result"
    }
   ],
   "source": [
    "[(lambda i : i*i)(i) for i in range(10)]"
   ]
  },
  {
   "cell_type": "code",
   "execution_count": 46,
   "id": "c2404fd2",
   "metadata": {},
   "outputs": [
    {
     "name": "stdout",
     "output_type": "stream",
     "text": [
      "[(0, 0), (1, 1), (4, 8), (9, 27), (16, 64), (25, 125), (36, 216), (49, 343), (64, 512), (81, 729)]\n"
     ]
    }
   ],
   "source": [
    "print([((lambda i:i*i)(i) , (lambda i:i*i*i)(i)) for i in range(10)])"
   ]
  },
  {
   "cell_type": "code",
   "execution_count": 56,
   "id": "e52e62ff",
   "metadata": {},
   "outputs": [
    {
     "data": {
      "text/plain": [
       "[(0, 9),\n",
       " (1, 8),\n",
       " (2, 7),\n",
       " (3, 6),\n",
       " (4, 5),\n",
       " (5, 4),\n",
       " (6, 3),\n",
       " (7, 2),\n",
       " (8, 1),\n",
       " (9, 0)]"
      ]
     },
     "execution_count": 56,
     "metadata": {},
     "output_type": "execute_result"
    }
   ],
   "source": [
    "[(x,y) for x in range(10) for y in range(10) if x+y == 9]"
   ]
  },
  {
   "cell_type": "code",
   "execution_count": null,
   "id": "aa6ba19e",
   "metadata": {},
   "outputs": [],
   "source": []
  },
  {
   "cell_type": "code",
   "execution_count": null,
   "id": "fa294537",
   "metadata": {},
   "outputs": [],
   "source": []
  },
  {
   "cell_type": "code",
   "execution_count": null,
   "id": "7b8ce59e",
   "metadata": {},
   "outputs": [],
   "source": []
  },
  {
   "cell_type": "code",
   "execution_count": null,
   "id": "d5bdbd17",
   "metadata": {},
   "outputs": [],
   "source": []
  }
 ],
 "metadata": {
  "kernelspec": {
   "display_name": "Python 3",
   "language": "python",
   "name": "python3"
  },
  "language_info": {
   "codemirror_mode": {
    "name": "ipython",
    "version": 3
   },
   "file_extension": ".py",
   "mimetype": "text/x-python",
   "name": "python",
   "nbconvert_exporter": "python",
   "pygments_lexer": "ipython3",
   "version": "3.8.8"
  }
 },
 "nbformat": 4,
 "nbformat_minor": 5
}
