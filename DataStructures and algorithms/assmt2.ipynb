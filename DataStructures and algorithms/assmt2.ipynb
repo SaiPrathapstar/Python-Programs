{
 "cells": [
  {
   "cell_type": "code",
   "execution_count": 31,
   "id": "8a9a0276",
   "metadata": {},
   "outputs": [],
   "source": [
    "def threesquares(n):\n",
    "    if n <= 0:\n",
    "        return False\n",
    "    cond = False\n",
    "    for a in range(n):\n",
    "        for b in range(n):\n",
    "            for c in range(n):\n",
    "                val = a**2 + b**2 + c**2\n",
    "                if val == n:\n",
    "                    cond = True\n",
    "                    return(True)\n",
    "                    break\n",
    "                elif val > n:\n",
    "                    break\n",
    "                elif val < n and cond == False:\n",
    "                    c = c+1\n",
    "            if cond == False:\n",
    "                b = b+1\n",
    "            else:\n",
    "                return(True)\n",
    "        if cond == False:\n",
    "            a = a+1\n",
    "        else:\n",
    "            return(True)\n",
    "    return(cond)"
   ]
  },
  {
   "cell_type": "code",
   "execution_count": 43,
   "id": "a5647bd0",
   "metadata": {},
   "outputs": [],
   "source": [
    "import numpy as np\n",
    "def s(n):\n",
    "    if n<=0:\n",
    "        return False\n",
    "    if np.sqrt(n) == int(np.sqrt(n)):\n",
    "        return True\n",
    "    while(n%4==0):\n",
    "        n=int(n/4);\n",
    "    if n%8 == 7:\n",
    "        return False\n",
    "    return True"
   ]
  },
  {
   "cell_type": "code",
   "execution_count": 44,
   "id": "b4ef0b33",
   "metadata": {},
   "outputs": [
    {
     "data": {
      "text/plain": [
       "False"
      ]
     },
     "execution_count": 44,
     "metadata": {},
     "output_type": "execute_result"
    }
   ],
   "source": [
    "s(-23)"
   ]
  },
  {
   "cell_type": "code",
   "execution_count": 12,
   "id": "8c63cec5",
   "metadata": {},
   "outputs": [],
   "source": [
    "def repfree(s):\n",
    "    for i in range(len(s)):\n",
    "        if s.count(s[i]) > 1:\n",
    "            return False\n",
    "    return True"
   ]
  },
  {
   "cell_type": "code",
   "execution_count": 13,
   "id": "ed163ea1",
   "metadata": {},
   "outputs": [
    {
     "data": {
      "text/plain": [
       "False"
      ]
     },
     "execution_count": 13,
     "metadata": {},
     "output_type": "execute_result"
    }
   ],
   "source": [
    "repfree(\"abracadabra\")"
   ]
  },
  {
   "cell_type": "code",
   "execution_count": 25,
   "id": "daee4be1",
   "metadata": {},
   "outputs": [],
   "source": [
    "def hillvalley(n):\n",
    "    if len(n)<=2:\n",
    "        return False\n",
    "    c = n[0]<n[1]\n",
    "    x=0\n",
    "    for i in range(len(n)-1):\n",
    "        if c!=(n[i]<n[i+1]):\n",
    "            c=n[i]<n[i+1]\n",
    "            x=x+1\n",
    "    if x<=2 and x!=0:\n",
    "        return True\n",
    "    else:\n",
    "        return False"
   ]
  },
  {
   "cell_type": "code",
   "execution_count": 26,
   "id": "f1088864",
   "metadata": {},
   "outputs": [
    {
     "data": {
      "text/plain": [
       "True"
      ]
     },
     "execution_count": 26,
     "metadata": {},
     "output_type": "execute_result"
    }
   ],
   "source": [
    "hillvalley([1,2,3,5,4,3,2,1])"
   ]
  },
  {
   "cell_type": "code",
   "execution_count": 27,
   "id": "597b3182",
   "metadata": {},
   "outputs": [
    {
     "data": {
      "text/plain": [
       "False"
      ]
     },
     "execution_count": 27,
     "metadata": {},
     "output_type": "execute_result"
    }
   ],
   "source": [
    "hillvalley([1,2,3,4,5,3,2,4,5,3,2,1])"
   ]
  },
  {
   "cell_type": "code",
   "execution_count": 28,
   "id": "2cbc99de",
   "metadata": {},
   "outputs": [
    {
     "data": {
      "text/plain": [
       "True"
      ]
     },
     "execution_count": 28,
     "metadata": {},
     "output_type": "execute_result"
    }
   ],
   "source": [
    "hillvalley([9,5,4,-1,-2,3,7])"
   ]
  },
  {
   "cell_type": "code",
   "execution_count": 29,
   "id": "e2f5899a",
   "metadata": {},
   "outputs": [
    {
     "data": {
      "text/plain": [
       "False"
      ]
     },
     "execution_count": 29,
     "metadata": {},
     "output_type": "execute_result"
    }
   ],
   "source": [
    "hillvalley([5,4,3,2,1,0,-1,-2,-3])"
   ]
  },
  {
   "cell_type": "code",
   "execution_count": null,
   "id": "308ad156",
   "metadata": {},
   "outputs": [],
   "source": []
  }
 ],
 "metadata": {
  "kernelspec": {
   "display_name": "Python 3",
   "language": "python",
   "name": "python3"
  },
  "language_info": {
   "codemirror_mode": {
    "name": "ipython",
    "version": 3
   },
   "file_extension": ".py",
   "mimetype": "text/x-python",
   "name": "python",
   "nbconvert_exporter": "python",
   "pygments_lexer": "ipython3",
   "version": "3.8.8"
  }
 },
 "nbformat": 4,
 "nbformat_minor": 5
}
