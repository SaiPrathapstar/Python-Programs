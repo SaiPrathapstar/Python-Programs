{
 "cells": [
  {
   "cell_type": "code",
   "execution_count": 1,
   "id": "fb097ff0",
   "metadata": {},
   "outputs": [],
   "source": [
    "def factors(n):\n",
    "    flist = []\n",
    "    for i in range(1,n+1):\n",
    "        if not n%i:\n",
    "            flist = flist + [i]\n",
    "    return flist"
   ]
  },
  {
   "cell_type": "code",
   "execution_count": 2,
   "id": "2bc0d9d3",
   "metadata": {},
   "outputs": [
    {
     "data": {
      "text/plain": [
       "[1, 2, 3, 4, 6, 12]"
      ]
     },
     "execution_count": 2,
     "metadata": {},
     "output_type": "execute_result"
    }
   ],
   "source": [
    "factors(12)"
   ]
  },
  {
   "cell_type": "code",
   "execution_count": 3,
   "id": "a19dccd2",
   "metadata": {},
   "outputs": [
    {
     "data": {
      "text/plain": [
       "[1]"
      ]
     },
     "execution_count": 3,
     "metadata": {},
     "output_type": "execute_result"
    }
   ],
   "source": [
    "factors(1)"
   ]
  },
  {
   "cell_type": "code",
   "execution_count": 4,
   "id": "bc1e560a",
   "metadata": {},
   "outputs": [],
   "source": [
    "def isPrime(n):\n",
    "    return (factors(n) == [1,n])"
   ]
  },
  {
   "cell_type": "code",
   "execution_count": 5,
   "id": "e22bec87",
   "metadata": {},
   "outputs": [
    {
     "data": {
      "text/plain": [
       "False"
      ]
     },
     "execution_count": 5,
     "metadata": {},
     "output_type": "execute_result"
    }
   ],
   "source": [
    "isPrime(1)"
   ]
  },
  {
   "cell_type": "code",
   "execution_count": 7,
   "id": "88014478",
   "metadata": {},
   "outputs": [
    {
     "data": {
      "text/plain": [
       "True"
      ]
     },
     "execution_count": 7,
     "metadata": {},
     "output_type": "execute_result"
    }
   ],
   "source": [
    "isPrime(13)"
   ]
  },
  {
   "cell_type": "code",
   "execution_count": 10,
   "id": "ea90f56a",
   "metadata": {},
   "outputs": [],
   "source": [
    "def primeUpto(n):\n",
    "    plist = []\n",
    "    for i in range(2,n+1):\n",
    "        if isPrime(i):\n",
    "            plist = plist + [i]\n",
    "    return plist"
   ]
  },
  {
   "cell_type": "code",
   "execution_count": 13,
   "id": "a9d5e322",
   "metadata": {},
   "outputs": [
    {
     "data": {
      "text/plain": [
       "[2, 3, 5, 7, 11, 13, 17, 19]"
      ]
     },
     "execution_count": 13,
     "metadata": {},
     "output_type": "execute_result"
    }
   ],
   "source": [
    "primeUpto(20)"
   ]
  },
  {
   "cell_type": "code",
   "execution_count": 16,
   "id": "ab3f0027",
   "metadata": {},
   "outputs": [],
   "source": [
    "def nPrimes(n):\n",
    "    (count , i , plist) = (0,1 , [])\n",
    "    while count < n:\n",
    "        if isPrime(i):\n",
    "            (count , plist) = (count+1 , plist + [i])\n",
    "        i = i+1\n",
    "    return plist"
   ]
  },
  {
   "cell_type": "code",
   "execution_count": 17,
   "id": "c19b233e",
   "metadata": {},
   "outputs": [
    {
     "data": {
      "text/plain": [
       "[2, 3, 5, 7, 11, 13, 17, 19, 23, 29, 31, 37]"
      ]
     },
     "execution_count": 17,
     "metadata": {},
     "output_type": "execute_result"
    }
   ],
   "source": [
    "nPrimes(12)"
   ]
  }
 ],
 "metadata": {
  "kernelspec": {
   "display_name": "Python 3",
   "language": "python",
   "name": "python3"
  },
  "language_info": {
   "codemirror_mode": {
    "name": "ipython",
    "version": 3
   },
   "file_extension": ".py",
   "mimetype": "text/x-python",
   "name": "python",
   "nbconvert_exporter": "python",
   "pygments_lexer": "ipython3",
   "version": "3.8.8"
  }
 },
 "nbformat": 4,
 "nbformat_minor": 5
}
