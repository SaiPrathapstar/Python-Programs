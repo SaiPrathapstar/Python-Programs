{
 "cells": [
  {
   "cell_type": "code",
   "execution_count": 34,
   "id": "d7053d90",
   "metadata": {},
   "outputs": [],
   "source": [
    "def merge(arr , l , m , r):\n",
    "    n1 = m-l+1\n",
    "    n2 = r-m\n",
    "    l1 = [0]*n1\n",
    "    l2 = [0]*n2\n",
    "    for i in range(n1):\n",
    "        l1[i] = arr[i+l]\n",
    "    for j in range(n2):\n",
    "        l2[j] = arr[m+1+j]\n",
    "    i = 0\n",
    "    j = 0\n",
    "    k = l\n",
    "    while i < n1 and j < n2:\n",
    "        if l1[i] < l2[j]:\n",
    "            arr[k] = l1[i]\n",
    "            i+=1\n",
    "        else:\n",
    "            arr[k] = l2[j]\n",
    "            j+=1\n",
    "        k+=1\n",
    "    while i < n1:\n",
    "        arr[k] = l1[i]\n",
    "        i+=1\n",
    "        k+=1\n",
    "    while j < n2:\n",
    "        arr[k] = l2[j]\n",
    "        j+=1\n",
    "        k+=1\n",
    "def mergesort(arr,l,r):\n",
    "    if l <r :\n",
    "        m = (l+r-1)//2\n",
    "        mergesort(arr,l,m)\n",
    "        mergesort(arr,m+1,r)\n",
    "        merge(arr,l,m,r)"
   ]
  },
  {
   "cell_type": "code",
   "execution_count": 28,
   "id": "e115f00e",
   "metadata": {},
   "outputs": [],
   "source": [
    "l = list(range(20,0,-1))"
   ]
  },
  {
   "cell_type": "code",
   "execution_count": 38,
   "id": "3bdbc622",
   "metadata": {},
   "outputs": [],
   "source": [
    "mergesort(l,0,19)"
   ]
  },
  {
   "cell_type": "code",
   "execution_count": 39,
   "id": "1800e917",
   "metadata": {},
   "outputs": [
    {
     "data": {
      "text/plain": [
       "[1, 2, 3, 4, 5, 6, 7, 8, 9, 10, 11, 12, 13, 14, 15, 16, 17, 18, 19, 20]"
      ]
     },
     "execution_count": 39,
     "metadata": {},
     "output_type": "execute_result"
    }
   ],
   "source": [
    "l"
   ]
  },
  {
   "cell_type": "code",
   "execution_count": null,
   "id": "a558abce",
   "metadata": {},
   "outputs": [],
   "source": []
  },
  {
   "cell_type": "code",
   "execution_count": null,
   "id": "01f504a3",
   "metadata": {},
   "outputs": [],
   "source": []
  },
  {
   "cell_type": "code",
   "execution_count": null,
   "id": "238a492f",
   "metadata": {},
   "outputs": [],
   "source": []
  },
  {
   "cell_type": "code",
   "execution_count": null,
   "id": "2218e1d1",
   "metadata": {},
   "outputs": [],
   "source": []
  },
  {
   "cell_type": "code",
   "execution_count": null,
   "id": "ef00a2e8",
   "metadata": {},
   "outputs": [],
   "source": []
  },
  {
   "cell_type": "code",
   "execution_count": null,
   "id": "1fc2d465",
   "metadata": {},
   "outputs": [],
   "source": []
  },
  {
   "cell_type": "code",
   "execution_count": null,
   "id": "866d2b79",
   "metadata": {},
   "outputs": [],
   "source": []
  }
 ],
 "metadata": {
  "kernelspec": {
   "display_name": "Python 3",
   "language": "python",
   "name": "python3"
  },
  "language_info": {
   "codemirror_mode": {
    "name": "ipython",
    "version": 3
   },
   "file_extension": ".py",
   "mimetype": "text/x-python",
   "name": "python",
   "nbconvert_exporter": "python",
   "pygments_lexer": "ipython3",
   "version": "3.8.8"
  }
 },
 "nbformat": 4,
 "nbformat_minor": 5
}
