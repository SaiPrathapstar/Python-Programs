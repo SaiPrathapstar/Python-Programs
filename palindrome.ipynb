{
 "cells": [
  {
   "cell_type": "code",
   "execution_count": 13,
   "id": "b576938b",
   "metadata": {},
   "outputs": [],
   "source": [
    "def palindrome(num):\n",
    "    rem = 0\n",
    "    rev = 0\n",
    "    t = num\n",
    "    while num > 0:\n",
    "        rem = num % 10\n",
    "        rev = rev * 10 + rem\n",
    "        num = int(num/10)\n",
    "    if t == rev :\n",
    "        print(\"It is a palindrome\")\n",
    "    else:\n",
    "        print(\"It is not a palindrome\")"
   ]
  },
  {
   "cell_type": "code",
   "execution_count": 14,
   "id": "b195f391",
   "metadata": {},
   "outputs": [
    {
     "name": "stdout",
     "output_type": "stream",
     "text": [
      "It is a palindrome\n"
     ]
    }
   ],
   "source": [
    "palindrome(323)"
   ]
  },
  {
   "cell_type": "code",
   "execution_count": null,
   "id": "dbfd70b5",
   "metadata": {},
   "outputs": [],
   "source": []
  }
 ],
 "metadata": {
  "kernelspec": {
   "display_name": "Python 3",
   "language": "python",
   "name": "python3"
  },
  "language_info": {
   "codemirror_mode": {
    "name": "ipython",
    "version": 3
   },
   "file_extension": ".py",
   "mimetype": "text/x-python",
   "name": "python",
   "nbconvert_exporter": "python",
   "pygments_lexer": "ipython3",
   "version": "3.8.8"
  }
 },
 "nbformat": 4,
 "nbformat_minor": 5
}
